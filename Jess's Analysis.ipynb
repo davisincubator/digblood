{
 "cells": [
  {
   "cell_type": "markdown",
   "metadata": {},
   "source": [
    "## Jess's DIGBlood IPython notebook"
   ]
  },
  {
   "cell_type": "code",
   "execution_count": 189,
   "metadata": {
    "collapsed": false
   },
   "outputs": [],
   "source": [
    "# Import stuff\n",
    "%matplotlib inline\n",
    "import pandas as pd\n",
    "import numpy as np\n",
    "import statsmodels.formula.api as smf\n",
    "from scipy.stats import pearsonr\n",
    "from __future__ import division\n",
    "import matplotlib.pyplot as plt\n",
    "from statsmodels.nonparametric.smoothers_lowess import lowess"
   ]
  },
  {
   "cell_type": "code",
   "execution_count": 190,
   "metadata": {
    "collapsed": false
   },
   "outputs": [],
   "source": [
    "df = pd.DataFrame.from_csv('/Users/jesskerlin/Documents/GitHub/digblood/blood_train.csv')\n",
    "df.columns = [c.replace(' ', '_') for c in df.columns]"
   ]
  },
  {
   "cell_type": "code",
   "execution_count": 191,
   "metadata": {
    "collapsed": false
   },
   "outputs": [
    {
     "data": {
      "text/html": [
       "<div>\n",
       "<table border=\"1\" class=\"dataframe\">\n",
       "  <thead>\n",
       "    <tr style=\"text-align: right;\">\n",
       "      <th></th>\n",
       "      <th>Months_since_Last_Donation</th>\n",
       "      <th>Number_of_Donations</th>\n",
       "      <th>Total_Volume_Donated_(c.c.)</th>\n",
       "      <th>Months_since_First_Donation</th>\n",
       "      <th>Made_Donation_in_March_2007</th>\n",
       "    </tr>\n",
       "  </thead>\n",
       "  <tbody>\n",
       "    <tr>\n",
       "      <th>619</th>\n",
       "      <td>2</td>\n",
       "      <td>50</td>\n",
       "      <td>12500</td>\n",
       "      <td>98</td>\n",
       "      <td>1</td>\n",
       "    </tr>\n",
       "    <tr>\n",
       "      <th>664</th>\n",
       "      <td>0</td>\n",
       "      <td>13</td>\n",
       "      <td>3250</td>\n",
       "      <td>28</td>\n",
       "      <td>1</td>\n",
       "    </tr>\n",
       "    <tr>\n",
       "      <th>441</th>\n",
       "      <td>1</td>\n",
       "      <td>16</td>\n",
       "      <td>4000</td>\n",
       "      <td>35</td>\n",
       "      <td>1</td>\n",
       "    </tr>\n",
       "    <tr>\n",
       "      <th>160</th>\n",
       "      <td>2</td>\n",
       "      <td>20</td>\n",
       "      <td>5000</td>\n",
       "      <td>45</td>\n",
       "      <td>1</td>\n",
       "    </tr>\n",
       "    <tr>\n",
       "      <th>358</th>\n",
       "      <td>1</td>\n",
       "      <td>24</td>\n",
       "      <td>6000</td>\n",
       "      <td>77</td>\n",
       "      <td>0</td>\n",
       "    </tr>\n",
       "  </tbody>\n",
       "</table>\n",
       "</div>"
      ],
      "text/plain": [
       "     Months_since_Last_Donation  Number_of_Donations  \\\n",
       "619                           2                   50   \n",
       "664                           0                   13   \n",
       "441                           1                   16   \n",
       "160                           2                   20   \n",
       "358                           1                   24   \n",
       "\n",
       "     Total_Volume_Donated_(c.c.)  Months_since_First_Donation  \\\n",
       "619                        12500                           98   \n",
       "664                         3250                           28   \n",
       "441                         4000                           35   \n",
       "160                         5000                           45   \n",
       "358                         6000                           77   \n",
       "\n",
       "     Made_Donation_in_March_2007  \n",
       "619                            1  \n",
       "664                            1  \n",
       "441                            1  \n",
       "160                            1  \n",
       "358                            0  "
      ]
     },
     "execution_count": 191,
     "metadata": {},
     "output_type": "execute_result"
    }
   ],
   "source": [
    "#Show the first few lines of the database\n",
    "df[:5]"
   ]
  },
  {
   "cell_type": "code",
   "execution_count": 192,
   "metadata": {
    "collapsed": false
   },
   "outputs": [
    {
     "data": {
      "text/plain": [
       "(1.0, 0.0)"
      ]
     },
     "execution_count": 192,
     "metadata": {},
     "output_type": "execute_result"
    }
   ],
   "source": [
    "\n",
    "pearsonr(df['Number_of_Donations'],df['Total_Volume_Donated_(c.c.)'])"
   ]
  },
  {
   "cell_type": "code",
   "execution_count": 193,
   "metadata": {
    "collapsed": false
   },
   "outputs": [
    {
     "data": {
      "image/png": "[encoded data removed]",
      "text/plain": [
       "<matplotlib.figure.Figure at 0x11f6ffcd0>"
      ]
     },
     "metadata": {},
     "output_type": "display_data"
    }
   ],
   "source": [
    "data = df[['Months_since_Last_Donation','Made_Donation_in_March_2007']].groupby(['Months_since_Last_Donation']).mean().plot(kind = 'bar')\n"
   ]
  },
  {
   "cell_type": "code",
   "execution_count": 207,
   "metadata": {
    "collapsed": false
   },
   "outputs": [
    {
     "name": "stdout",
     "output_type": "stream",
     "text": [
      "(array([  2.025,   2.075,   2.125, ...,  97.875,  97.925,  97.975]), array([ 0.18952158,  0.19123849,  0.19303602, ...,  0.49698717,\n",
      "        0.49740469,  0.49776461]))\n",
      "[ 0  0  0  0  1  1  1  1  1  1  1  1  1  2  2  2  2  2  2  2  2  2  2  2  2\n",
      "  2  2  2  2  2  2  2  2  2  2  2  2  2  2  2  2  2  2  2  2  2  2  2  2  2\n",
      "  2  2  2  2  2  2  2  2  2  2  2  2  2  2  2  2  2  2  2  2  2  2  2  2  2\n",
      "  2  2  2  2  2  2  2  2  2  2  2  2  2  2  2  2  2  2  2  2  2  2  2  2  2\n",
      "  2  2  2  2  2  2  2  2  2  2  2  2  2  2  2  2  2  2  2  2  2  2  2  2  2\n",
      "  2  2  2  2  2  2  2  2  2  2  2  2  2  2  2  2  2  2  2  2  2  2  2  2  2\n",
      "  2  2  2  3  3  3  3  3  3  3  3  3  3  4  4  4  4  4  4  4  4  4  4  4  4\n",
      "  4  4  4  4  4  4  4  4  4  4  4  4  4  4  4  4  4  4  4  4  4  4  4  4  4\n",
      "  4  4  4  4  4  4  4  4  4  4  4  4  4  4  4  4  4  4  4  4  4  4  4  4  4\n",
      "  4  4  4  4  4  4  4  4  4  4  4  4  4  4  4  4  4  4  4  4  4  4  4  4  4\n",
      "  4  4  4  4  4  4  4  4  4  4  4  4  4  4  4  4  4  4  4  4  4  4  4  4  4\n",
      "  4  4  4  5  5  6  6  6  6  7  7  7  7  7  8  8  8  8  8  9  9  9  9  9  9\n",
      "  9  9  9  9  9  9  9  9  9  9  9 10 10 10 11 11 11 11 11 11 11 11 11 11 11\n",
      " 11 11 11 11 11 11 11 11 11 11 11 11 11 11 11 11 11 11 11 11 11 11 11 11 11\n",
      " 11 11 11 11 11 11 11 11 11 11 11 11 11 11 11 11 11 11 11 11 11 11 11 11 12\n",
      " 12 12 12 12 13 13 13 13 14 14 14 14 14 14 14 14 14 14 14 14 14 14 14 14 14\n",
      " 14 14 14 14 14 14 14 14 14 14 14 14 14 14 14 14 14 14 14 14 14 14 14 14 14\n",
      " 14 14 14 14 14 14 14 14 14 14 14 14 14 14 14 14 14 14 15 16 16 16 16 16 16\n",
      " 16 16 16 16 16 16 16 16 16 16 16 16 16 16 16 16 16 16 16 16 16 16 16 16 16\n",
      " 16 16 16 16 16 16 16 16 16 16 16 16 16 16 16 16 16 17 18 18 20 21 21 21 21\n",
      " 21 21 21 21 21 21 21 21 21 21 21 21 21 21 21 21 21 21 21 21 21 21 21 21 21\n",
      " 21 21 21 21 21 21 21 21 22 23 23 23 23 23 23 23 23 23 23 23 23 23 23 23 23\n",
      " 23 23 23 23 23 23 23 23 23 23 23 23 23 23 23 23 23 23 23 23 25 26 35 39 72\n",
      " 74]\n"
     ]
    },
    {
     "data": {
      "image/png": "[encoded data removed]",
      "text/plain": [
       "<matplotlib.figure.Figure at 0x121ab9210>"
      ]
     },
     "metadata": {},
     "output_type": "display_data"
    }
   ],
   "source": [
    "# From http://stackoverflow.com/questions/18517722/weighted-moving-average-in-python \n",
    "def weighted_moving_average(x,y,step_size=0.05,width=1):\n",
    "    bin_centers  = np.arange(np.min(x),np.max(x)-0.5*step_size,step_size)+0.5*step_size\n",
    "    bin_avg = np.zeros(len(bin_centers))\n",
    "\n",
    "    #We're going to weight with a Gaussian function\n",
    "    def gaussian(x,amp=1,mean=0,sigma=1):\n",
    "        return amp*np.exp(-(x-mean)**2/(2*sigma**2))\n",
    "\n",
    "    for index in range(0,len(bin_centers)):\n",
    "        bin_center = bin_centers[index]\n",
    "        weights = gaussian(x,mean=bin_center,sigma=width)\n",
    "        bin_avg[index] = np.average(y,weights=weights)\n",
    "\n",
    "    return (bin_centers,bin_avg)\n",
    "\n",
    "data = df[['Months_since_First_Donation','Made_Donation_in_March_2007']].groupby(['Months_since_First_Donation']).mean()\n",
    "count = df[['Months_since_First_Donation','Made_Donation_in_March_2007']].groupby(['Months_since_First_Donation']).mean()\n",
    "df = df.sort_values('Months_since_Last_Donation')\n",
    "x = df['Months_since_Last_Donation'].values #.apply(lambda x: np.log(x)).\n",
    "y = df['Made_Donation_in_March_2007'].values\n",
    "scipy.stats.halfnorm\n",
    "x_out,y_out = weighted_moving_average(x,y,step_size = 1,width = 5)\n",
    "print smoothed\n",
    "plt.plot(x_out,y_out)\n",
    "print x\n",
    "\n",
    "#plt.bar(data.index,data.Made_Donation_in_March_2007)"
   ]
  },
  {
   "cell_type": "code",
   "execution_count": 197,
   "metadata": {
    "collapsed": false
   },
   "outputs": [
    {
     "name": "stdout",
     "output_type": "stream",
     "text": [
      "[       -inf        -inf        -inf        -inf  0.          0.          0.\n",
      "  0.          0.          0.          0.          0.          0.\n",
      "  0.69314718  0.69314718  0.69314718  0.69314718  0.69314718  0.69314718\n",
      "  0.69314718  0.69314718  0.69314718  0.69314718  0.69314718  0.69314718\n",
      "  0.69314718  0.69314718  0.69314718  0.69314718  0.69314718  0.69314718\n",
      "  0.69314718  0.69314718  0.69314718  0.69314718  0.69314718  0.69314718\n",
      "  0.69314718  0.69314718  0.69314718  0.69314718  0.69314718  0.69314718\n",
      "  0.69314718  0.69314718  0.69314718  0.69314718  0.69314718  0.69314718\n",
      "  0.69314718  0.69314718  0.69314718  0.69314718  0.69314718  0.69314718\n",
      "  0.69314718  0.69314718  0.69314718  0.69314718  0.69314718  0.69314718\n",
      "  0.69314718  0.69314718  0.69314718  0.69314718  0.69314718  0.69314718\n",
      "  0.69314718  0.69314718  0.69314718  0.69314718  0.69314718  0.69314718\n",
      "  0.69314718  0.69314718  0.69314718  0.69314718  0.69314718  0.69314718\n",
      "  0.69314718  0.69314718  0.69314718  0.69314718  0.69314718  0.69314718\n",
      "  0.69314718  0.69314718  0.69314718  0.69314718  0.69314718  0.69314718\n",
      "  0.69314718  0.69314718  0.69314718  0.69314718  0.69314718  0.69314718\n",
      "  0.69314718  0.69314718  0.69314718  0.69314718  0.69314718  0.69314718\n",
      "  0.69314718  0.69314718  0.69314718  0.69314718  0.69314718  0.69314718\n",
      "  0.69314718  0.69314718  0.69314718  0.69314718  0.69314718  0.69314718\n",
      "  0.69314718  0.69314718  0.69314718  0.69314718  0.69314718  0.69314718\n",
      "  0.69314718  0.69314718  0.69314718  0.69314718  0.69314718  0.69314718\n",
      "  0.69314718  0.69314718  0.69314718  0.69314718  0.69314718  0.69314718\n",
      "  0.69314718  0.69314718  0.69314718  0.69314718  0.69314718  0.69314718\n",
      "  0.69314718  0.69314718  0.69314718  0.69314718  0.69314718  0.69314718\n",
      "  0.69314718  0.69314718  0.69314718  0.69314718  0.69314718  0.69314718\n",
      "  0.69314718  0.69314718  1.09861229  1.09861229  1.09861229  1.09861229\n",
      "  1.09861229  1.09861229  1.09861229  1.09861229  1.09861229  1.09861229\n",
      "  1.38629436  1.38629436  1.38629436  1.38629436  1.38629436  1.38629436\n",
      "  1.38629436  1.38629436  1.38629436  1.38629436  1.38629436  1.38629436\n",
      "  1.38629436  1.38629436  1.38629436  1.38629436  1.38629436  1.38629436\n",
      "  1.38629436  1.38629436  1.38629436  1.38629436  1.38629436  1.38629436\n",
      "  1.38629436  1.38629436  1.38629436  1.38629436  1.38629436  1.38629436\n",
      "  1.38629436  1.38629436  1.38629436  1.38629436  1.38629436  1.38629436\n",
      "  1.38629436  1.38629436  1.38629436  1.38629436  1.38629436  1.38629436\n",
      "  1.38629436  1.38629436  1.38629436  1.38629436  1.38629436  1.38629436\n",
      "  1.38629436  1.38629436  1.38629436  1.38629436  1.38629436  1.38629436\n",
      "  1.38629436  1.38629436  1.38629436  1.38629436  1.38629436  1.38629436\n",
      "  1.38629436  1.38629436  1.38629436  1.38629436  1.38629436  1.38629436\n",
      "  1.38629436  1.38629436  1.38629436  1.38629436  1.38629436  1.38629436\n",
      "  1.38629436  1.38629436  1.38629436  1.38629436  1.38629436  1.38629436\n",
      "  1.38629436  1.38629436  1.38629436  1.38629436  1.38629436  1.38629436\n",
      "  1.38629436  1.38629436  1.38629436  1.38629436  1.38629436  1.38629436\n",
      "  1.38629436  1.38629436  1.38629436  1.38629436  1.38629436  1.38629436\n",
      "  1.38629436  1.38629436  1.38629436  1.38629436  1.38629436  1.38629436\n",
      "  1.38629436  1.38629436  1.38629436  1.38629436  1.38629436  1.38629436\n",
      "  1.38629436  1.38629436  1.38629436  1.38629436  1.38629436  1.38629436\n",
      "  1.38629436  1.60943791  1.60943791  1.79175947  1.79175947  1.79175947\n",
      "  1.79175947  1.94591015  1.94591015  1.94591015  1.94591015  1.94591015\n",
      "  2.07944154  2.07944154  2.07944154  2.07944154  2.07944154  2.19722458\n",
      "  2.19722458  2.19722458  2.19722458  2.19722458  2.19722458  2.19722458\n",
      "  2.19722458  2.19722458  2.19722458  2.19722458  2.19722458  2.19722458\n",
      "  2.19722458  2.19722458  2.19722458  2.19722458  2.30258509  2.30258509\n",
      "  2.30258509  2.39789527  2.39789527  2.39789527  2.39789527  2.39789527\n",
      "  2.39789527  2.39789527  2.39789527  2.39789527  2.39789527  2.39789527\n",
      "  2.39789527  2.39789527  2.39789527  2.39789527  2.39789527  2.39789527\n",
      "  2.39789527  2.39789527  2.39789527  2.39789527  2.39789527  2.39789527\n",
      "  2.39789527  2.39789527  2.39789527  2.39789527  2.39789527  2.39789527\n",
      "  2.39789527  2.39789527  2.39789527  2.39789527  2.39789527  2.39789527\n",
      "  2.39789527  2.39789527  2.39789527  2.39789527  2.39789527  2.39789527\n",
      "  2.39789527  2.39789527  2.39789527  2.39789527  2.39789527  2.39789527\n",
      "  2.39789527  2.39789527  2.39789527  2.39789527  2.39789527  2.39789527\n",
      "  2.39789527  2.39789527  2.39789527  2.39789527  2.39789527  2.39789527\n",
      "  2.39789527  2.48490665  2.48490665  2.48490665  2.48490665  2.48490665\n",
      "  2.56494936  2.56494936  2.56494936  2.56494936  2.63905733  2.63905733\n",
      "  2.63905733  2.63905733  2.63905733  2.63905733  2.63905733  2.63905733\n",
      "  2.63905733  2.63905733  2.63905733  2.63905733  2.63905733  2.63905733\n",
      "  2.63905733  2.63905733  2.63905733  2.63905733  2.63905733  2.63905733\n",
      "  2.63905733  2.63905733  2.63905733  2.63905733  2.63905733  2.63905733\n",
      "  2.63905733  2.63905733  2.63905733  2.63905733  2.63905733  2.63905733\n",
      "  2.63905733  2.63905733  2.63905733  2.63905733  2.63905733  2.63905733\n",
      "  2.63905733  2.63905733  2.63905733  2.63905733  2.63905733  2.63905733\n",
      "  2.63905733  2.63905733  2.63905733  2.63905733  2.63905733  2.63905733\n",
      "  2.63905733  2.63905733  2.63905733  2.63905733  2.63905733  2.63905733\n",
      "  2.63905733  2.63905733  2.63905733  2.63905733  2.7080502   2.77258872\n",
      "  2.77258872  2.77258872  2.77258872  2.77258872  2.77258872  2.77258872\n",
      "  2.77258872  2.77258872  2.77258872  2.77258872  2.77258872  2.77258872\n",
      "  2.77258872  2.77258872  2.77258872  2.77258872  2.77258872  2.77258872\n",
      "  2.77258872  2.77258872  2.77258872  2.77258872  2.77258872  2.77258872\n",
      "  2.77258872  2.77258872  2.77258872  2.77258872  2.77258872  2.77258872\n",
      "  2.77258872  2.77258872  2.77258872  2.77258872  2.77258872  2.77258872\n",
      "  2.77258872  2.77258872  2.77258872  2.77258872  2.77258872  2.77258872\n",
      "  2.77258872  2.77258872  2.77258872  2.77258872  2.77258872  2.83321334\n",
      "  2.89037176  2.89037176  2.99573227  3.04452244  3.04452244  3.04452244\n",
      "  3.04452244  3.04452244  3.04452244  3.04452244  3.04452244  3.04452244\n",
      "  3.04452244  3.04452244  3.04452244  3.04452244  3.04452244  3.04452244\n",
      "  3.04452244  3.04452244  3.04452244  3.04452244  3.04452244  3.04452244\n",
      "  3.04452244  3.04452244  3.04452244  3.04452244  3.04452244  3.04452244\n",
      "  3.04452244  3.04452244  3.04452244  3.04452244  3.04452244  3.04452244\n",
      "  3.04452244  3.04452244  3.04452244  3.04452244  3.09104245  3.13549422\n",
      "  3.13549422  3.13549422  3.13549422  3.13549422  3.13549422  3.13549422\n",
      "  3.13549422  3.13549422  3.13549422  3.13549422  3.13549422  3.13549422\n",
      "  3.13549422  3.13549422  3.13549422  3.13549422  3.13549422  3.13549422\n",
      "  3.13549422  3.13549422  3.13549422  3.13549422  3.13549422  3.13549422\n",
      "  3.13549422  3.13549422  3.13549422  3.13549422  3.13549422  3.13549422\n",
      "  3.13549422  3.13549422  3.13549422  3.13549422  3.13549422  3.21887582\n",
      "  3.25809654  3.55534806  3.66356165  4.27666612  4.30406509]\n"
     ]
    }
   ],
   "source": [
    "print x"
   ]
  },
  {
   "cell_type": "markdown",
   "metadata": {},
   "source": [
    "Since Total Volume Donated adds no information, I won't include it as a feature."
   ]
  },
  {
   "cell_type": "code",
   "execution_count": 195,
   "metadata": {
    "collapsed": false
   },
   "outputs": [
    {
     "data": {
      "text/plain": [
       "436    0.366096\n",
       "214    0.343896\n",
       "676    0.310818\n",
       "664    0.515535\n",
       "358    0.602107\n",
       "607    0.347716\n",
       "182    0.285178\n",
       "164    0.462686\n",
       "106    0.325693\n",
       "285    0.448608\n",
       "330    0.437552\n",
       "441    0.551485\n",
       "258    0.394102\n",
       "291    0.308770\n",
       "392    0.308770\n",
       "589    0.308770\n",
       "220    0.308770\n",
       "410    0.308770\n",
       "88     0.308770\n",
       "619    1.106322\n",
       "631    0.292705\n",
       "618    0.275603\n",
       "238    0.294691\n",
       "587    0.308770\n",
       "655    0.261525\n",
       "700    0.126429\n",
       "19     0.288645\n",
       "434    0.218251\n",
       "195    0.251418\n",
       "519    0.199074\n",
       "         ...   \n",
       "645    0.029055\n",
       "538    0.059198\n",
       "451    0.640713\n",
       "325    0.254074\n",
       "193    0.104635\n",
       "378    0.068268\n",
       "597   -0.109064\n",
       "295   -0.080818\n",
       "475    0.021971\n",
       "141    0.046068\n",
       "576    0.046068\n",
       "78     0.059198\n",
       "110    0.046068\n",
       "588    0.046068\n",
       "388    0.046068\n",
       "117    0.046068\n",
       "514    0.014976\n",
       "739    0.036050\n",
       "604    0.039073\n",
       "22     0.327756\n",
       "595    0.046157\n",
       "210    0.053152\n",
       "180    0.060236\n",
       "554    0.046068\n",
       "183    0.056467\n",
       "281    0.027804\n",
       "673   -0.147321\n",
       "541   -0.154085\n",
       "74    -0.566903\n",
       "350   -0.591922\n",
       "dtype: float64"
      ]
     },
     "execution_count": 195,
     "metadata": {},
     "output_type": "execute_result"
    }
   ],
   "source": [
    "df.drop('Total_Volume_Donated_(c.c.)', axis = 1)\n",
    "model = smf.ols('Made_Donation_in_March_2007 ~ Months_since_Last_Donation + Number_of_Donations + Months_since_First_Donation', data = df)\n",
    "result = model.fit()\n",
    "result.summary()\n",
    "result.fittedvalues"
   ]
  },
  {
   "cell_type": "code",
   "execution_count": 49,
   "metadata": {
    "collapsed": false
   },
   "outputs": [
    {
     "data": {
      "text/plain": [
       "Index([u'Months since Last Donation', u'Number of Donations',\n",
       "       u'Total Volume Donated (c.c.)', u'Months since First Donation',\n",
       "       u'Made Donation in March 2007', u'Means'],\n",
       "      dtype='object')"
      ]
     },
     "execution_count": 49,
     "metadata": {},
     "output_type": "execute_result"
    }
   ],
   "source": [
    "df.keys()\n"
   ]
  },
  {
   "cell_type": "code",
   "execution_count": 56,
   "metadata": {
    "collapsed": false
   },
   "outputs": [
    {
     "name": "stdout",
     "output_type": "stream",
     "text": [
      "619    0.239583\n",
      "664    0.239583\n",
      "441    0.239583\n",
      "160    0.239583\n",
      "358    0.239583\n",
      "335    0.239583\n",
      "47     0.239583\n",
      "164    0.239583\n",
      "736    0.239583\n",
      "436    0.239583\n",
      "460    0.239583\n",
      "285    0.239583\n",
      "499    0.239583\n",
      "356    0.239583\n",
      "40     0.239583\n",
      "191    0.239583\n",
      "638    0.239583\n",
      "345    0.239583\n",
      "463    0.239583\n",
      "372    0.239583\n",
      "8      0.239583\n",
      "539    0.239583\n",
      "734    0.239583\n",
      "573    0.239583\n",
      "482    0.239583\n",
      "330    0.239583\n",
      "222    0.239583\n",
      "175    0.239583\n",
      "606    0.239583\n",
      "340    0.239583\n",
      "         ...   \n",
      "577    0.239583\n",
      "118    0.239583\n",
      "532    0.239583\n",
      "338    0.239583\n",
      "365    0.239583\n",
      "173    0.239583\n",
      "715    0.239583\n",
      "2      0.239583\n",
      "387    0.239583\n",
      "738    0.239583\n",
      "610    0.239583\n",
      "450    0.239583\n",
      "232    0.239583\n",
      "440    0.239583\n",
      "183    0.239583\n",
      "60     0.239583\n",
      "58     0.239583\n",
      "49     0.239583\n",
      "674    0.239583\n",
      "204    0.239583\n",
      "361    0.239583\n",
      "30     0.239583\n",
      "337    0.239583\n",
      "496    0.239583\n",
      "169    0.239583\n",
      "698    0.239583\n",
      "433    0.239583\n",
      "360    0.239583\n",
      "541    0.239583\n",
      "74     0.239583\n",
      "Name: Means, dtype: float64\n"
     ]
    }
   ],
   "source": [
    "mean = df['Made Donation in March 2007'].mean()\n",
    "df['Means'] = np.ones([576,1])*mean\n",
    "print df['Means']"
   ]
  },
  {
   "cell_type": "code",
   "execution_count": 51,
   "metadata": {
    "collapsed": false
   },
   "outputs": [],
   "source": [
    "\n",
    "    "
   ]
  },
  {
   "cell_type": "code",
   "execution_count": 62,
   "metadata": {
    "collapsed": false
   },
   "outputs": [
    {
     "name": "stdout",
     "output_type": "stream",
     "text": [
      "Training log-loss score 0.550599168862\n"
     ]
    }
   ],
   "source": [
    "# Training evaluation\n",
    "from sklearn.metrics import log_loss\n",
    "pred = np.array(df.Means)\n",
    "actual = df['Made Donation in March 2007']\n",
    "print 'Training log-loss score ' + str(log_loss(actual,pred))"
   ]
  },
  {
   "cell_type": "code",
   "execution_count": null,
   "metadata": {
    "collapsed": true
   },
   "outputs": [],
   "source": []
  }
 ],
 "metadata": {
  "anaconda-cloud": {},
  "kernelspec": {
   "display_name": "Python [Root]",
   "language": "python",
   "name": "Python [Root]"
  },
  "language_info": {
   "codemirror_mode": {
    "name": "ipython",
    "version": 2
   },
   "file_extension": ".py",
   "mimetype": "text/x-python",
   "name": "python",
   "nbconvert_exporter": "python",
   "pygments_lexer": "ipython2",
   "version": "2.7.12"
  }
 },
 "nbformat": 4,
 "nbformat_minor": 0
}
