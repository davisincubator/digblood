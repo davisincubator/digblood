{
 "cells": [
  {
   "cell_type": "markdown",
   "metadata": {},
   "source": [
    "## Jess's DIGBlood IPython notebook"
   ]
  },
  {
   "cell_type": "code",
   "execution_count": 1,
   "metadata": {
    "collapsed": false
   },
   "outputs": [
    {
     "name": "stderr",
     "output_type": "stream",
     "text": [
      "//anaconda/lib/python2.7/site-packages/matplotlib/font_manager.py:273: UserWarning: Matplotlib is building the font cache using fc-list. This may take a moment.\n",
      "  warnings.warn('Matplotlib is building the font cache using fc-list. This may take a moment.')\n"
     ]
    }
   ],
   "source": [
    "# Import stuff\n",
    "%matplotlib inline\n",
    "import pandas as pd\n",
    "import numpy as np\n",
    "import statsmodels.formula.api as smf\n",
    "import scipy\n",
    "from scipy.stats import pearsonr\n",
    "from __future__ import division\n",
    "import matplotlib.pyplot as plt\n",
    "from statsmodels.nonparametric.smoothers_lowess import lowess"
   ]
  },
  {
   "cell_type": "code",
   "execution_count": 2,
   "metadata": {
    "collapsed": false
   },
   "outputs": [],
   "source": [
    "df = pd.DataFrame.from_csv('/Users/jesskerlin/Documents/GitHub/digblood/data/raw/blood_train.csv')\n",
    "df.columns = [c.replace(' ', '_') for c in df.columns]"
   ]
  },
  {
   "cell_type": "code",
   "execution_count": 3,
   "metadata": {
    "collapsed": false
   },
   "outputs": [
    {
     "data": {
      "text/html": [
       "<div>\n",
       "<table border=\"1\" class=\"dataframe\">\n",
       "  <thead>\n",
       "    <tr style=\"text-align: right;\">\n",
       "      <th></th>\n",
       "      <th>Months_since_Last_Donation</th>\n",
       "      <th>Number_of_Donations</th>\n",
       "      <th>Total_Volume_Donated_(c.c.)</th>\n",
       "      <th>Months_since_First_Donation</th>\n",
       "      <th>Made_Donation_in_March_2007</th>\n",
       "    </tr>\n",
       "  </thead>\n",
       "  <tbody>\n",
       "    <tr>\n",
       "      <th>619</th>\n",
       "      <td>2</td>\n",
       "      <td>50</td>\n",
       "      <td>12500</td>\n",
       "      <td>98</td>\n",
       "      <td>1</td>\n",
       "    </tr>\n",
       "    <tr>\n",
       "      <th>664</th>\n",
       "      <td>0</td>\n",
       "      <td>13</td>\n",
       "      <td>3250</td>\n",
       "      <td>28</td>\n",
       "      <td>1</td>\n",
       "    </tr>\n",
       "    <tr>\n",
       "      <th>441</th>\n",
       "      <td>1</td>\n",
       "      <td>16</td>\n",
       "      <td>4000</td>\n",
       "      <td>35</td>\n",
       "      <td>1</td>\n",
       "    </tr>\n",
       "    <tr>\n",
       "      <th>160</th>\n",
       "      <td>2</td>\n",
       "      <td>20</td>\n",
       "      <td>5000</td>\n",
       "      <td>45</td>\n",
       "      <td>1</td>\n",
       "    </tr>\n",
       "    <tr>\n",
       "      <th>358</th>\n",
       "      <td>1</td>\n",
       "      <td>24</td>\n",
       "      <td>6000</td>\n",
       "      <td>77</td>\n",
       "      <td>0</td>\n",
       "    </tr>\n",
       "  </tbody>\n",
       "</table>\n",
       "</div>"
      ],
      "text/plain": [
       "     Months_since_Last_Donation  Number_of_Donations  \\\n",
       "619                           2                   50   \n",
       "664                           0                   13   \n",
       "441                           1                   16   \n",
       "160                           2                   20   \n",
       "358                           1                   24   \n",
       "\n",
       "     Total_Volume_Donated_(c.c.)  Months_since_First_Donation  \\\n",
       "619                        12500                           98   \n",
       "664                         3250                           28   \n",
       "441                         4000                           35   \n",
       "160                         5000                           45   \n",
       "358                         6000                           77   \n",
       "\n",
       "     Made_Donation_in_March_2007  \n",
       "619                            1  \n",
       "664                            1  \n",
       "441                            1  \n",
       "160                            1  \n",
       "358                            0  "
      ]
     },
     "execution_count": 3,
     "metadata": {},
     "output_type": "execute_result"
    }
   ],
   "source": [
    "#Show the first few lines of the database\n",
    "df[:5]"
   ]
  },
  {
   "cell_type": "code",
   "execution_count": 4,
   "metadata": {
    "collapsed": false
   },
   "outputs": [
    {
     "data": {
      "text/plain": [
       "(1.0, 0.0)"
      ]
     },
     "execution_count": 4,
     "metadata": {},
     "output_type": "execute_result"
    }
   ],
   "source": [
    "pearsonr(df['Number_of_Donations'],df['Total_Volume_Donated_(c.c.)'])"
   ]
  },
  {
   "cell_type": "code",
   "execution_count": 133,
   "metadata": {
    "collapsed": false
   },
   "outputs": [
    {
     "data": {
      "text/html": [
       "<div>\n",
       "<table border=\"1\" class=\"dataframe\">\n",
       "  <thead>\n",
       "    <tr style=\"text-align: right;\">\n",
       "      <th></th>\n",
       "      <th>Made_Donation_in_March_2007</th>\n",
       "    </tr>\n",
       "    <tr>\n",
       "      <th>MLDCount</th>\n",
       "      <th></th>\n",
       "    </tr>\n",
       "  </thead>\n",
       "  <tbody>\n",
       "    <tr>\n",
       "      <th>1</th>\n",
       "      <td>0.400000</td>\n",
       "    </tr>\n",
       "    <tr>\n",
       "      <th>2</th>\n",
       "      <td>0.250000</td>\n",
       "    </tr>\n",
       "    <tr>\n",
       "      <th>3</th>\n",
       "      <td>0.000000</td>\n",
       "    </tr>\n",
       "    <tr>\n",
       "      <th>4</th>\n",
       "      <td>0.333333</td>\n",
       "    </tr>\n",
       "    <tr>\n",
       "      <th>5</th>\n",
       "      <td>0.133333</td>\n",
       "    </tr>\n",
       "    <tr>\n",
       "      <th>9</th>\n",
       "      <td>0.222222</td>\n",
       "    </tr>\n",
       "    <tr>\n",
       "      <th>10</th>\n",
       "      <td>0.300000</td>\n",
       "    </tr>\n",
       "    <tr>\n",
       "      <th>17</th>\n",
       "      <td>0.176471</td>\n",
       "    </tr>\n",
       "    <tr>\n",
       "      <th>36</th>\n",
       "      <td>0.027778</td>\n",
       "    </tr>\n",
       "    <tr>\n",
       "      <th>37</th>\n",
       "      <td>0.081081</td>\n",
       "    </tr>\n",
       "    <tr>\n",
       "      <th>48</th>\n",
       "      <td>0.062500</td>\n",
       "    </tr>\n",
       "    <tr>\n",
       "      <th>60</th>\n",
       "      <td>0.141667</td>\n",
       "    </tr>\n",
       "    <tr>\n",
       "      <th>115</th>\n",
       "      <td>0.339130</td>\n",
       "    </tr>\n",
       "    <tr>\n",
       "      <th>140</th>\n",
       "      <td>0.400000</td>\n",
       "    </tr>\n",
       "  </tbody>\n",
       "</table>\n",
       "</div>"
      ],
      "text/plain": [
       "          Made_Donation_in_March_2007\n",
       "MLDCount                             \n",
       "1                            0.400000\n",
       "2                            0.250000\n",
       "3                            0.000000\n",
       "4                            0.333333\n",
       "5                            0.133333\n",
       "9                            0.222222\n",
       "10                           0.300000\n",
       "17                           0.176471\n",
       "36                           0.027778\n",
       "37                           0.081081\n",
       "48                           0.062500\n",
       "60                           0.141667\n",
       "115                          0.339130\n",
       "140                          0.400000"
      ]
     },
     "execution_count": 133,
     "metadata": {},
     "output_type": "execute_result"
    }
   ],
   "source": [
    "df['MLDCount'] = df[['Made_Donation_in_March_2007','Months_since_Last_Donation']].groupby('Months_since_Last_Donation').transform(lambda x: x.count())\n",
    "df[['Made_Donation_in_March_2007','MLDCount']].groupby('MLDCount').mean()"
   ]
  },
  {
   "cell_type": "code",
   "execution_count": 50,
   "metadata": {
    "collapsed": false
   },
   "outputs": [],
   "source": [
    "def meanRevertBins(predictorLabel,actualLabel,meanRevCount):\n",
    "    dataMean = df[[predictorLabel,actualLabel]].groupby([predictorLabel]).mean()\n",
    "    dataCount = df[[predictorLabel,actualLabel]].groupby([predictorLabel]).count()\n",
    "    pred = (dataMean*dataCount+np.mean(dataMean)*meanRevCount)/(dataCount+meanRevCount)\n",
    "    x = pred.index\n",
    "    y = pred.values\n",
    "    \n",
    "    return x,y"
   ]
  },
  {
   "cell_type": "code",
   "execution_count": 93,
   "metadata": {
    "collapsed": false
   },
   "outputs": [],
   "source": [
    "# From http://stackoverflow.com/questions/18517722/weighted-moving-average-in-python \n",
    "def uniPredict(x,y,testx,fillval=0):\n",
    "    pred = np.array([])        \n",
    "    for test in testx:\n",
    "        if test in x:\n",
    "            pred = np.append(pred,y[test==x])\n",
    "        else:\n",
    "            pred = np.append(pred,fillval)\n",
    "    return pred       \n"
   ]
  },
  {
   "cell_type": "code",
   "execution_count": 152,
   "metadata": {
    "collapsed": false
   },
   "outputs": [],
   "source": [
    "actualLabel = 'Made_Donation_in_March_2007'\n",
    "meanRevCount = 3\n",
    "\n",
    "predictorLabel = 'Months_since_Last_Donation'\n",
    "\n",
    "x,y = meanRevertBins(predictorLabel,actualLabel,meanRevCount)\n",
    "fillval = np.mean(df[actualLabel])  \n",
    "testx = df[predictorLabel]\n",
    "pred1 = uniPredict(x,y,testx,fillval=fillval)\n",
    "\n",
    "predictorLabel = 'Months_since_First_Donation'\n",
    "x,y = meanRevertBins(predictorLabel,actualLabel,meanRevCount)\n",
    "fillval = np.mean(df[actualLabel])  \n",
    "testx = df[predictorLabel]\n",
    "pred2 = uniPredict(x,y,testx,fillval=fillval)\n",
    "\n",
    "predictorLabel = 'Number_of_Donations'\n",
    "x,y = meanRevertBins(predictorLabel,actualLabel,meanRevCount)\n",
    "fillval = np.mean(df[actualLabel])  \n",
    "testx = df[predictorLabel]\n",
    "pred3 = uniPredict(x,y,testx,fillval=fillval)\n",
    "\n",
    "predictorLabel = 'MLDCount'\n",
    "x,y = meanRevertBins(predictorLabel,actualLabel,meanRevCount)\n",
    "fillval = np.mean(df[actualLabel])  \n",
    "testx = df[predictorLabel]\n",
    "pred4 = uniPredict(x,y,testx,fillval=fillval)\n",
    "\n",
    "multipred = (pred1+pred2*3+pred3+pred4)/6"
   ]
  },
  {
   "cell_type": "code",
   "execution_count": 153,
   "metadata": {
    "collapsed": false
   },
   "outputs": [
    {
     "name": "stdout",
     "output_type": "stream",
     "text": [
      "Training log-loss score 0.48873511625\n",
      "Training log-loss score 0.484721168487\n",
      "Training log-loss score 0.507067396522\n",
      "Training log-loss score 0.494623769427\n",
      "Training log-loss score 0.476482877656\n"
     ]
    }
   ],
   "source": [
    "# Training evaluation\n",
    "from sklearn.metrics import log_loss\n",
    "actual = df[actualLabel]\n",
    "print 'Training log-loss score ' + str(log_loss(actual,pred1))\n",
    "print 'Training log-loss score ' + str(log_loss(actual,pred2))\n",
    "print 'Training log-loss score ' + str(log_loss(actual,pred3))\n",
    "print 'Training log-loss score ' + str(log_loss(actual,pred4))\n",
    "print 'Training log-loss score ' + str(log_loss(actual,multipred))"
   ]
  },
  {
   "cell_type": "code",
   "execution_count": null,
   "metadata": {
    "collapsed": true
   },
   "outputs": [],
   "source": []
  }
 ],
 "metadata": {
  "anaconda-cloud": {},
  "kernelspec": {
   "display_name": "Python [Root]",
   "language": "python",
   "name": "Python [Root]"
  },
  "language_info": {
   "codemirror_mode": {
    "name": "ipython",
    "version": 2
   },
   "file_extension": ".py",
   "mimetype": "text/x-python",
   "name": "python",
   "nbconvert_exporter": "python",
   "pygments_lexer": "ipython2",
   "version": "2.7.12"
  }
 },
 "nbformat": 4,
 "nbformat_minor": 0
}
