{
 "cells": [
  {
   "cell_type": "code",
   "execution_count": 197,
   "metadata": {
    "collapsed": false
   },
   "outputs": [],
   "source": [
    "import pandas as pd\n",
    "import matplotlib.pyplot as plt\n",
    "import math\n",
    "import scipy\n",
    "import numpy\n",
    "import sklearn\n",
    "#from sklearn import datasets, linear_model, metrics"
   ]
  },
  {
   "cell_type": "code",
   "execution_count": 198,
   "metadata": {
    "collapsed": false
   },
   "outputs": [],
   "source": [
    "b = pd.DataFrame.from_csv('../data/raw/blood_train.csv')"
   ]
  },
  {
   "cell_type": "code",
   "execution_count": 199,
   "metadata": {
    "collapsed": false
   },
   "outputs": [
    {
     "data": {
      "text/html": [
       "<div style=\"max-height:1000px;max-width:1500px;overflow:auto;\">\n",
       "<table border=\"1\" class=\"dataframe\">\n",
       "  <thead>\n",
       "    <tr style=\"text-align: right;\">\n",
       "      <th></th>\n",
       "      <th>Months since Last Donation</th>\n",
       "      <th>Number of Donations</th>\n",
       "      <th>Total Volume Donated (c.c.)</th>\n",
       "      <th>Months since First Donation</th>\n",
       "      <th>Made Donation in March 2007</th>\n",
       "    </tr>\n",
       "  </thead>\n",
       "  <tbody>\n",
       "    <tr>\n",
       "      <th>619</th>\n",
       "      <td> 2</td>\n",
       "      <td> 50</td>\n",
       "      <td> 12500</td>\n",
       "      <td> 98</td>\n",
       "      <td> 1</td>\n",
       "    </tr>\n",
       "    <tr>\n",
       "      <th>664</th>\n",
       "      <td> 0</td>\n",
       "      <td> 13</td>\n",
       "      <td>  3250</td>\n",
       "      <td> 28</td>\n",
       "      <td> 1</td>\n",
       "    </tr>\n",
       "    <tr>\n",
       "      <th>441</th>\n",
       "      <td> 1</td>\n",
       "      <td> 16</td>\n",
       "      <td>  4000</td>\n",
       "      <td> 35</td>\n",
       "      <td> 1</td>\n",
       "    </tr>\n",
       "    <tr>\n",
       "      <th>160</th>\n",
       "      <td> 2</td>\n",
       "      <td> 20</td>\n",
       "      <td>  5000</td>\n",
       "      <td> 45</td>\n",
       "      <td> 1</td>\n",
       "    </tr>\n",
       "    <tr>\n",
       "      <th>358</th>\n",
       "      <td> 1</td>\n",
       "      <td> 24</td>\n",
       "      <td>  6000</td>\n",
       "      <td> 77</td>\n",
       "      <td> 0</td>\n",
       "    </tr>\n",
       "  </tbody>\n",
       "</table>\n",
       "</div>"
      ],
      "text/plain": [
       "     Months since Last Donation  Number of Donations  \\\n",
       "619                           2                   50   \n",
       "664                           0                   13   \n",
       "441                           1                   16   \n",
       "160                           2                   20   \n",
       "358                           1                   24   \n",
       "\n",
       "     Total Volume Donated (c.c.)  Months since First Donation  \\\n",
       "619                        12500                           98   \n",
       "664                         3250                           28   \n",
       "441                         4000                           35   \n",
       "160                         5000                           45   \n",
       "358                         6000                           77   \n",
       "\n",
       "     Made Donation in March 2007  \n",
       "619                            1  \n",
       "664                            1  \n",
       "441                            1  \n",
       "160                            1  \n",
       "358                            0  "
      ]
     },
     "execution_count": 199,
     "metadata": {},
     "output_type": "execute_result"
    }
   ],
   "source": [
    "b[:5]"
   ]
  },
  {
   "cell_type": "code",
   "execution_count": 200,
   "metadata": {
    "collapsed": false
   },
   "outputs": [
    {
     "data": {
      "text/html": [
       "<div style=\"max-height:1000px;max-width:1500px;overflow:auto;\">\n",
       "<table border=\"1\" class=\"dataframe\">\n",
       "  <thead>\n",
       "    <tr style=\"text-align: right;\">\n",
       "      <th></th>\n",
       "      <th>Months since Last Donation</th>\n",
       "      <th>Number of Donations</th>\n",
       "      <th>Total Volume Donated (c.c.)</th>\n",
       "      <th>Months since First Donation</th>\n",
       "      <th>Made Donation in March 2007</th>\n",
       "    </tr>\n",
       "  </thead>\n",
       "  <tbody>\n",
       "    <tr>\n",
       "      <th>count</th>\n",
       "      <td> 576.000000</td>\n",
       "      <td> 576.000000</td>\n",
       "      <td>   576.000000</td>\n",
       "      <td> 576.000000</td>\n",
       "      <td> 576.000000</td>\n",
       "    </tr>\n",
       "    <tr>\n",
       "      <th>mean</th>\n",
       "      <td>   9.439236</td>\n",
       "      <td>   5.427083</td>\n",
       "      <td>  1356.770833</td>\n",
       "      <td>  34.050347</td>\n",
       "      <td>   0.239583</td>\n",
       "    </tr>\n",
       "    <tr>\n",
       "      <th>std</th>\n",
       "      <td>   8.175454</td>\n",
       "      <td>   5.740010</td>\n",
       "      <td>  1435.002556</td>\n",
       "      <td>  24.227672</td>\n",
       "      <td>   0.427200</td>\n",
       "    </tr>\n",
       "    <tr>\n",
       "      <th>min</th>\n",
       "      <td>   0.000000</td>\n",
       "      <td>   1.000000</td>\n",
       "      <td>   250.000000</td>\n",
       "      <td>   2.000000</td>\n",
       "      <td>   0.000000</td>\n",
       "    </tr>\n",
       "    <tr>\n",
       "      <th>25%</th>\n",
       "      <td>   2.000000</td>\n",
       "      <td>   2.000000</td>\n",
       "      <td>   500.000000</td>\n",
       "      <td>  16.000000</td>\n",
       "      <td>   0.000000</td>\n",
       "    </tr>\n",
       "    <tr>\n",
       "      <th>50%</th>\n",
       "      <td>   7.000000</td>\n",
       "      <td>   4.000000</td>\n",
       "      <td>  1000.000000</td>\n",
       "      <td>  28.000000</td>\n",
       "      <td>   0.000000</td>\n",
       "    </tr>\n",
       "    <tr>\n",
       "      <th>75%</th>\n",
       "      <td>  14.000000</td>\n",
       "      <td>   7.000000</td>\n",
       "      <td>  1750.000000</td>\n",
       "      <td>  49.250000</td>\n",
       "      <td>   0.000000</td>\n",
       "    </tr>\n",
       "    <tr>\n",
       "      <th>max</th>\n",
       "      <td>  74.000000</td>\n",
       "      <td>  50.000000</td>\n",
       "      <td> 12500.000000</td>\n",
       "      <td>  98.000000</td>\n",
       "      <td>   1.000000</td>\n",
       "    </tr>\n",
       "  </tbody>\n",
       "</table>\n",
       "</div>"
      ],
      "text/plain": [
       "       Months since Last Donation  Number of Donations  \\\n",
       "count                  576.000000           576.000000   \n",
       "mean                     9.439236             5.427083   \n",
       "std                      8.175454             5.740010   \n",
       "min                      0.000000             1.000000   \n",
       "25%                      2.000000             2.000000   \n",
       "50%                      7.000000             4.000000   \n",
       "75%                     14.000000             7.000000   \n",
       "max                     74.000000            50.000000   \n",
       "\n",
       "       Total Volume Donated (c.c.)  Months since First Donation  \\\n",
       "count                   576.000000                   576.000000   \n",
       "mean                   1356.770833                    34.050347   \n",
       "std                    1435.002556                    24.227672   \n",
       "min                     250.000000                     2.000000   \n",
       "25%                     500.000000                    16.000000   \n",
       "50%                    1000.000000                    28.000000   \n",
       "75%                    1750.000000                    49.250000   \n",
       "max                   12500.000000                    98.000000   \n",
       "\n",
       "       Made Donation in March 2007  \n",
       "count                   576.000000  \n",
       "mean                      0.239583  \n",
       "std                       0.427200  \n",
       "min                       0.000000  \n",
       "25%                       0.000000  \n",
       "50%                       0.000000  \n",
       "75%                       0.000000  \n",
       "max                       1.000000  "
      ]
     },
     "execution_count": 200,
     "metadata": {},
     "output_type": "execute_result"
    }
   ],
   "source": [
    "b.describe()"
   ]
  },
  {
   "cell_type": "code",
   "execution_count": 201,
   "metadata": {
    "collapsed": false
   },
   "outputs": [
    {
     "data": {
      "text/plain": [
       "<matplotlib.collections.PathCollection at 0x11f1db790>"
      ]
     },
     "execution_count": 201,
     "metadata": {},
     "output_type": "execute_result"
    },
    {
     "data": {
      "image/png": "[encoded data removed]",
      "text/plain": [
       "<matplotlib.figure.Figure at 0x11ec25950>"
      ]
     },
     "metadata": {},
     "output_type": "display_data"
    }
   ],
   "source": [
    "#saving this to remember how to plot inline\n",
    "%matplotlib inline\n",
    "plt.scatter(x=b['Months since Last Donation'], y=b['Months since First Donation'], c=b['Made Donation in March 2007'], cmap='prism') "
   ]
  },
  {
   "cell_type": "code",
   "execution_count": 202,
   "metadata": {
    "collapsed": false
   },
   "outputs": [
    {
     "data": {
      "text/plain": [
       "array([[<matplotlib.axes._subplots.AxesSubplot object at 0x11f1e0210>,\n",
       "        <matplotlib.axes._subplots.AxesSubplot object at 0x11fe7afd0>],\n",
       "       [<matplotlib.axes._subplots.AxesSubplot object at 0x12000ac90>,\n",
       "        <matplotlib.axes._subplots.AxesSubplot object at 0x12007d0d0>],\n",
       "       [<matplotlib.axes._subplots.AxesSubplot object at 0x1200fd190>,\n",
       "        <matplotlib.axes._subplots.AxesSubplot object at 0x1200a9190>]], dtype=object)"
      ]
     },
     "execution_count": 202,
     "metadata": {},
     "output_type": "execute_result"
    },
    {
     "data": {
      "image/png": "[encoded data removed]",
      "text/plain": [
       "<matplotlib.figure.Figure at 0x11d8469d0>"
      ]
     },
     "metadata": {},
     "output_type": "display_data"
    }
   ],
   "source": [
    "%matplotlib inline\n",
    "b.hist(figsize=(20,20)) "
   ]
  },
  {
   "cell_type": "code",
   "execution_count": 203,
   "metadata": {
    "collapsed": false
   },
   "outputs": [
    {
     "data": {
      "text/plain": [
       "Months since Last Donation     11.416687\n",
       "Number of Donations            18.940493\n",
       "Total Volume Donated (c.c.)    18.940493\n",
       "Months since First Donation    -0.192772\n",
       "Made Donation in March 2007    -0.504993\n",
       "dtype: float64"
      ]
     },
     "execution_count": 203,
     "metadata": {},
     "output_type": "execute_result"
    }
   ],
   "source": [
    "b.kurtosis()"
   ]
  },
  {
   "cell_type": "code",
   "execution_count": 204,
   "metadata": {
    "collapsed": false
   },
   "outputs": [
    {
     "data": {
      "text/plain": [
       "Months since Last Donation     2.071107\n",
       "Number of Donations            3.503331\n",
       "Total Volume Donated (c.c.)    3.503331\n",
       "Months since First Donation    0.767706\n",
       "Made Donation in March 2007    1.223427\n",
       "dtype: float64"
      ]
     },
     "execution_count": 204,
     "metadata": {},
     "output_type": "execute_result"
    }
   ],
   "source": [
    "b.skew()"
   ]
  },
  {
   "cell_type": "code",
   "execution_count": 205,
   "metadata": {
    "collapsed": false
   },
   "outputs": [],
   "source": [
    "#everything is heavily skewed, well, except months since first donation\n",
    "#as we have discussed Total Volume Donated (c.c.) is equal to Number of Donations\n",
    "#in some cases their are major outliers, perhaps we could cap the value at something much lower and set higher values to that\n",
    "b1 = b[['Months since Last Donation', 'Number of Donations','Months since First Donation',\n",
    "        'Made Donation in March 2007']]"
   ]
  },
  {
   "cell_type": "code",
   "execution_count": 206,
   "metadata": {
    "collapsed": false
   },
   "outputs": [
    {
     "data": {
      "text/plain": [
       "array(['Months since Last Donation', 'Number of Donations',\n",
       "       'Months since First Donation', 'Made Donation in March 2007'], dtype=object)"
      ]
     },
     "execution_count": 206,
     "metadata": {},
     "output_type": "execute_result"
    }
   ],
   "source": [
    "b1.columns.values"
   ]
  },
  {
   "cell_type": "code",
   "execution_count": 207,
   "metadata": {
    "collapsed": false
   },
   "outputs": [
    {
     "data": {
      "text/html": [
       "<div style=\"max-height:1000px;max-width:1500px;overflow:auto;\">\n",
       "<table border=\"1\" class=\"dataframe\">\n",
       "  <thead>\n",
       "    <tr style=\"text-align: right;\">\n",
       "      <th></th>\n",
       "      <th>Months since Last Donation</th>\n",
       "      <th>Number of Donations</th>\n",
       "      <th>Months since First Donation</th>\n",
       "      <th>Made Donation in March 2007</th>\n",
       "    </tr>\n",
       "  </thead>\n",
       "  <tbody>\n",
       "    <tr>\n",
       "      <th>673</th>\n",
       "      <td> 35</td>\n",
       "      <td> 3</td>\n",
       "      <td> 64</td>\n",
       "      <td> 0</td>\n",
       "    </tr>\n",
       "    <tr>\n",
       "      <th>350</th>\n",
       "      <td> 74</td>\n",
       "      <td> 1</td>\n",
       "      <td> 74</td>\n",
       "      <td> 0</td>\n",
       "    </tr>\n",
       "    <tr>\n",
       "      <th>541</th>\n",
       "      <td> 39</td>\n",
       "      <td> 1</td>\n",
       "      <td> 39</td>\n",
       "      <td> 0</td>\n",
       "    </tr>\n",
       "    <tr>\n",
       "      <th>74 </th>\n",
       "      <td> 72</td>\n",
       "      <td> 1</td>\n",
       "      <td> 72</td>\n",
       "      <td> 0</td>\n",
       "    </tr>\n",
       "  </tbody>\n",
       "</table>\n",
       "</div>"
      ],
      "text/plain": [
       "     Months since Last Donation  Number of Donations  \\\n",
       "673                          35                    3   \n",
       "350                          74                    1   \n",
       "541                          39                    1   \n",
       "74                           72                    1   \n",
       "\n",
       "     Months since First Donation  Made Donation in March 2007  \n",
       "673                           64                            0  \n",
       "350                           74                            0  \n",
       "541                           39                            0  \n",
       "74                            72                            0  "
      ]
     },
     "execution_count": 207,
     "metadata": {},
     "output_type": "execute_result"
    }
   ],
   "source": [
    "b1[b1['Months since Last Donation'] > 30]\n",
    "#note people with really big last donations it's equal to their first donation, maybe they donated once and then\n",
    "#were like \"I hate this\" and never donated again"
   ]
  },
  {
   "cell_type": "code",
   "execution_count": 208,
   "metadata": {
    "collapsed": false
   },
   "outputs": [],
   "source": [
    "#b1[(b1['Months since Last Donation']==b1['Months since First Donation'])&(b1['Made Donation in March 2007']==1)]\n",
    "#.count()"
   ]
  },
  {
   "cell_type": "code",
   "execution_count": 209,
   "metadata": {
    "collapsed": false
   },
   "outputs": [],
   "source": [
    "#print float(18)/float(144)"
   ]
  },
  {
   "cell_type": "code",
   "execution_count": 210,
   "metadata": {
    "collapsed": false
   },
   "outputs": [],
   "source": [
    "#b1.keys()"
   ]
  },
  {
   "cell_type": "code",
   "execution_count": 212,
   "metadata": {
    "collapsed": false
   },
   "outputs": [
    {
     "name": "stderr",
     "output_type": "stream",
     "text": [
      "/anaconda/lib/python2.7/site-packages/ipykernel/__main__.py:1: SettingWithCopyWarning: A value is trying to be set on a copy of a slice from a DataFrame.\n",
      "Try using .loc[row_index,col_indexer] = value instead\n",
      "  if __name__ == '__main__':\n",
      "/anaconda/lib/python2.7/site-packages/ipykernel/__main__.py:2: SettingWithCopyWarning: A value is trying to be set on a copy of a slice from a DataFrame\n",
      "  from ipykernel import kernelapp as app\n"
     ]
    }
   ],
   "source": [
    "b1['Months since Last Donation Outliers Removed'] = b1['Months since Last Donation']\n",
    "b1.loc[b1['Months since Last Donation'] > 35, 'Months since Last Donation Outliers Removed'] = 35\n",
    "#b1[b1['Months since Last Donation Outliers Removed'].apply(lambda x: x > 35)] = 35"
   ]
  },
  {
   "cell_type": "code",
   "execution_count": 213,
   "metadata": {
    "collapsed": false
   },
   "outputs": [
    {
     "data": {
      "text/html": [
       "<div style=\"max-height:1000px;max-width:1500px;overflow:auto;\">\n",
       "<table border=\"1\" class=\"dataframe\">\n",
       "  <thead>\n",
       "    <tr style=\"text-align: right;\">\n",
       "      <th></th>\n",
       "      <th>Months since Last Donation</th>\n",
       "      <th>Number of Donations</th>\n",
       "      <th>Months since First Donation</th>\n",
       "      <th>Made Donation in March 2007</th>\n",
       "      <th>Months since Last Donation Outliers Removed</th>\n",
       "    </tr>\n",
       "  </thead>\n",
       "  <tbody>\n",
       "    <tr>\n",
       "      <th>673</th>\n",
       "      <td> 35</td>\n",
       "      <td> 3</td>\n",
       "      <td> 64</td>\n",
       "      <td> 0</td>\n",
       "      <td> 35</td>\n",
       "    </tr>\n",
       "    <tr>\n",
       "      <th>350</th>\n",
       "      <td> 74</td>\n",
       "      <td> 1</td>\n",
       "      <td> 74</td>\n",
       "      <td> 0</td>\n",
       "      <td> 35</td>\n",
       "    </tr>\n",
       "    <tr>\n",
       "      <th>541</th>\n",
       "      <td> 39</td>\n",
       "      <td> 1</td>\n",
       "      <td> 39</td>\n",
       "      <td> 0</td>\n",
       "      <td> 35</td>\n",
       "    </tr>\n",
       "    <tr>\n",
       "      <th>74 </th>\n",
       "      <td> 72</td>\n",
       "      <td> 1</td>\n",
       "      <td> 72</td>\n",
       "      <td> 0</td>\n",
       "      <td> 35</td>\n",
       "    </tr>\n",
       "  </tbody>\n",
       "</table>\n",
       "</div>"
      ],
      "text/plain": [
       "     Months since Last Donation  Number of Donations  \\\n",
       "673                          35                    3   \n",
       "350                          74                    1   \n",
       "541                          39                    1   \n",
       "74                           72                    1   \n",
       "\n",
       "     Months since First Donation  Made Donation in March 2007  \\\n",
       "673                           64                            0   \n",
       "350                           74                            0   \n",
       "541                           39                            0   \n",
       "74                            72                            0   \n",
       "\n",
       "     Months since Last Donation Outliers Removed  \n",
       "673                                           35  \n",
       "350                                           35  \n",
       "541                                           35  \n",
       "74                                            35  "
      ]
     },
     "execution_count": 213,
     "metadata": {},
     "output_type": "execute_result"
    }
   ],
   "source": [
    "b1[b1['Months since Last Donation Outliers Removed'] > 30]"
   ]
  },
  {
   "cell_type": "code",
   "execution_count": 214,
   "metadata": {
    "collapsed": false
   },
   "outputs": [
    {
     "data": {
      "text/html": [
       "<div style=\"max-height:1000px;max-width:1500px;overflow:auto;\">\n",
       "<table border=\"1\" class=\"dataframe\">\n",
       "  <thead>\n",
       "    <tr style=\"text-align: right;\">\n",
       "      <th></th>\n",
       "      <th>Months since Last Donation</th>\n",
       "      <th>Number of Donations</th>\n",
       "      <th>Months since First Donation</th>\n",
       "      <th>Made Donation in March 2007</th>\n",
       "      <th>Months since Last Donation Outliers Removed</th>\n",
       "    </tr>\n",
       "  </thead>\n",
       "  <tbody>\n",
       "    <tr>\n",
       "      <th>619</th>\n",
       "      <td>  2</td>\n",
       "      <td> 50</td>\n",
       "      <td> 98</td>\n",
       "      <td> 1</td>\n",
       "      <td>  2</td>\n",
       "    </tr>\n",
       "    <tr>\n",
       "      <th>736</th>\n",
       "      <td>  5</td>\n",
       "      <td> 46</td>\n",
       "      <td> 98</td>\n",
       "      <td> 1</td>\n",
       "      <td>  5</td>\n",
       "    </tr>\n",
       "    <tr>\n",
       "      <th>451</th>\n",
       "      <td> 23</td>\n",
       "      <td> 38</td>\n",
       "      <td> 98</td>\n",
       "      <td> 0</td>\n",
       "      <td> 23</td>\n",
       "    </tr>\n",
       "    <tr>\n",
       "      <th>39 </th>\n",
       "      <td>  2</td>\n",
       "      <td> 43</td>\n",
       "      <td> 86</td>\n",
       "      <td> 1</td>\n",
       "      <td>  2</td>\n",
       "    </tr>\n",
       "    <tr>\n",
       "      <th>149</th>\n",
       "      <td>  2</td>\n",
       "      <td> 44</td>\n",
       "      <td> 98</td>\n",
       "      <td> 0</td>\n",
       "      <td>  2</td>\n",
       "    </tr>\n",
       "    <tr>\n",
       "      <th>157</th>\n",
       "      <td>  4</td>\n",
       "      <td> 33</td>\n",
       "      <td> 98</td>\n",
       "      <td> 1</td>\n",
       "      <td>  4</td>\n",
       "    </tr>\n",
       "  </tbody>\n",
       "</table>\n",
       "</div>"
      ],
      "text/plain": [
       "     Months since Last Donation  Number of Donations  \\\n",
       "619                           2                   50   \n",
       "736                           5                   46   \n",
       "451                          23                   38   \n",
       "39                            2                   43   \n",
       "149                           2                   44   \n",
       "157                           4                   33   \n",
       "\n",
       "     Months since First Donation  Made Donation in March 2007  \\\n",
       "619                           98                            1   \n",
       "736                           98                            1   \n",
       "451                           98                            0   \n",
       "39                            86                            1   \n",
       "149                           98                            0   \n",
       "157                           98                            1   \n",
       "\n",
       "     Months since Last Donation Outliers Removed  \n",
       "619                                            2  \n",
       "736                                            5  \n",
       "451                                           23  \n",
       "39                                             2  \n",
       "149                                            2  \n",
       "157                                            4  "
      ]
     },
     "execution_count": 214,
     "metadata": {},
     "output_type": "execute_result"
    }
   ],
   "source": [
    "b1[b1['Number of Donations']>30]"
   ]
  },
  {
   "cell_type": "code",
   "execution_count": 215,
   "metadata": {
    "collapsed": false
   },
   "outputs": [],
   "source": [
    "##okay, need to save this to remember how it works, but sqrt didn't normalize quite as much as I hoped... though way better\n",
    "b1['Months since Last Donation square root'] = b1['Months since Last Donation Outliers Removed'].apply(math.sqrt)\n",
    "#b1['Months since Last Donation log'] = (b1['Months since Last Donation']+1).apply(numpy.log)\n",
    "#b1['Months since Last Donation reciprocal'] = 1/(b1['Months since Last Donation']+1)\n",
    "#oh yea, log and reciprocal won't work well because there are zeroes, would need to add one to all values before proceeding\n",
    "#cool, so sqrt wins anyway... \n",
    "\n",
    "#b1['Number of Donations square root'] = b1['Number of Donations'].apply(math.sqrt)\n",
    "b1['Number of Donations log'] = (b1['Number of Donations']+1).apply(numpy.log)\n",
    "#b1['Number of Donations reciprocal'] = 1/(b1['Number of Donations']+1)\n",
    "#log wins here"
   ]
  },
  {
   "cell_type": "code",
   "execution_count": 216,
   "metadata": {
    "collapsed": false
   },
   "outputs": [
    {
     "data": {
      "text/plain": [
       "array([[<matplotlib.axes._subplots.AxesSubplot object at 0x120089b10>,\n",
       "        <matplotlib.axes._subplots.AxesSubplot object at 0x1205a4850>,\n",
       "        <matplotlib.axes._subplots.AxesSubplot object at 0x12112b310>],\n",
       "       [<matplotlib.axes._subplots.AxesSubplot object at 0x12131a2d0>,\n",
       "        <matplotlib.axes._subplots.AxesSubplot object at 0x121390f50>,\n",
       "        <matplotlib.axes._subplots.AxesSubplot object at 0x1213ecbd0>],\n",
       "       [<matplotlib.axes._subplots.AxesSubplot object at 0x12147cad0>,\n",
       "        <matplotlib.axes._subplots.AxesSubplot object at 0x121601790>,\n",
       "        <matplotlib.axes._subplots.AxesSubplot object at 0x121670350>]], dtype=object)"
      ]
     },
     "execution_count": 216,
     "metadata": {},
     "output_type": "execute_result"
    },
    {
     "data": {
      "image/png": "[encoded data removed]",
      "text/plain": [
       "<matplotlib.figure.Figure at 0x1200b4ed0>"
      ]
     },
     "metadata": {},
     "output_type": "display_data"
    }
   ],
   "source": [
    "b1.hist(figsize=(20,20))"
   ]
  },
  {
   "cell_type": "code",
   "execution_count": 217,
   "metadata": {
    "collapsed": false
   },
   "outputs": [
    {
     "name": "stdout",
     "output_type": "stream",
     "text": [
      "SKEW\n",
      "Months since Last Donation                     2.071107\n",
      "Number of Donations                            3.503331\n",
      "Months since First Donation                    0.767706\n",
      "Made Donation in March 2007                    1.223427\n",
      "Months since Last Donation Outliers Removed    0.742492\n",
      "Months since Last Donation square root         0.234546\n",
      "Number of Donations log                        0.446914\n",
      "dtype: float64\n",
      "\n",
      "KURTOSIS\n",
      "Months since Last Donation                     11.416687\n",
      "Number of Donations                            18.940493\n",
      "Months since First Donation                    -0.192772\n",
      "Made Donation in March 2007                    -0.504993\n",
      "Months since Last Donation Outliers Removed    -0.305992\n",
      "Months since Last Donation square root         -1.160537\n",
      "Number of Donations log                        -0.254753\n",
      "dtype: float64\n"
     ]
    }
   ],
   "source": [
    "print \"SKEW\"\n",
    "print b1.skew()\n",
    "print \"\"\n",
    "print \"KURTOSIS\"\n",
    "print b1.kurtosis()"
   ]
  },
  {
   "cell_type": "code",
   "execution_count": 218,
   "metadata": {
    "collapsed": false
   },
   "outputs": [
    {
     "data": {
      "text/plain": [
       "Index([u'Months since Last Donation', u'Number of Donations', u'Months since First Donation', u'Made Donation in March 2007', u'Months since Last Donation Outliers Removed', u'Months since Last Donation square root', u'Number of Donations log'], dtype='object')"
      ]
     },
     "execution_count": 218,
     "metadata": {},
     "output_type": "execute_result"
    }
   ],
   "source": [
    "#also, is there a way to get odds ratios or percent liklihood from logistic regression in python? there is in R so it seems likely...\n",
    "b1.keys()"
   ]
  },
  {
   "cell_type": "code",
   "execution_count": 219,
   "metadata": {
    "collapsed": false
   },
   "outputs": [],
   "source": [
    "b2 = b1[['Months since Last Donation square root', 'Number of Donations log', 'Months since First Donation', 'Made Donation in March 2007']]"
   ]
  },
  {
   "cell_type": "code",
   "execution_count": 220,
   "metadata": {
    "collapsed": false
   },
   "outputs": [
    {
     "data": {
      "text/html": [
       "<div style=\"max-height:1000px;max-width:1500px;overflow:auto;\">\n",
       "<table border=\"1\" class=\"dataframe\">\n",
       "  <thead>\n",
       "    <tr style=\"text-align: right;\">\n",
       "      <th></th>\n",
       "      <th>Months since Last Donation square root</th>\n",
       "      <th>Number of Donations log</th>\n",
       "      <th>Months since First Donation</th>\n",
       "      <th>Made Donation in March 2007</th>\n",
       "    </tr>\n",
       "  </thead>\n",
       "  <tbody>\n",
       "    <tr>\n",
       "      <th>619</th>\n",
       "      <td> 1.414214</td>\n",
       "      <td> 3.931826</td>\n",
       "      <td> 98</td>\n",
       "      <td> 1</td>\n",
       "    </tr>\n",
       "    <tr>\n",
       "      <th>664</th>\n",
       "      <td> 0.000000</td>\n",
       "      <td> 2.639057</td>\n",
       "      <td> 28</td>\n",
       "      <td> 1</td>\n",
       "    </tr>\n",
       "    <tr>\n",
       "      <th>441</th>\n",
       "      <td> 1.000000</td>\n",
       "      <td> 2.833213</td>\n",
       "      <td> 35</td>\n",
       "      <td> 1</td>\n",
       "    </tr>\n",
       "    <tr>\n",
       "      <th>160</th>\n",
       "      <td> 1.414214</td>\n",
       "      <td> 3.044522</td>\n",
       "      <td> 45</td>\n",
       "      <td> 1</td>\n",
       "    </tr>\n",
       "    <tr>\n",
       "      <th>358</th>\n",
       "      <td> 1.000000</td>\n",
       "      <td> 3.218876</td>\n",
       "      <td> 77</td>\n",
       "      <td> 0</td>\n",
       "    </tr>\n",
       "  </tbody>\n",
       "</table>\n",
       "</div>"
      ],
      "text/plain": [
       "     Months since Last Donation square root  Number of Donations log  \\\n",
       "619                                1.414214                 3.931826   \n",
       "664                                0.000000                 2.639057   \n",
       "441                                1.000000                 2.833213   \n",
       "160                                1.414214                 3.044522   \n",
       "358                                1.000000                 3.218876   \n",
       "\n",
       "     Months since First Donation  Made Donation in March 2007  \n",
       "619                           98                            1  \n",
       "664                           28                            1  \n",
       "441                           35                            1  \n",
       "160                           45                            1  \n",
       "358                           77                            0  "
      ]
     },
     "execution_count": 220,
     "metadata": {},
     "output_type": "execute_result"
    }
   ],
   "source": [
    "b2[:5]"
   ]
  },
  {
   "cell_type": "code",
   "execution_count": 221,
   "metadata": {
    "collapsed": false
   },
   "outputs": [
    {
     "data": {
      "text/plain": [
       "Index([u'Months since Last Donation square root', u'Number of Donations log', u'Months since First Donation', u'Made Donation in March 2007'], dtype='object')"
      ]
     },
     "execution_count": 221,
     "metadata": {},
     "output_type": "execute_result"
    }
   ],
   "source": [
    "b2.keys()"
   ]
  },
  {
   "cell_type": "code",
   "execution_count": 222,
   "metadata": {
    "collapsed": false
   },
   "outputs": [],
   "source": [
    "pred = b2[['Months since Last Donation square root', 'Number of Donations log', 'Months since First Donation']]\n",
    "outcomes = b2[['Made Donation in March 2007']]\n",
    "fit1 = linear_model.LinearRegression()\n"
   ]
  },
  {
   "cell_type": "code",
   "execution_count": 223,
   "metadata": {
    "collapsed": false
   },
   "outputs": [
    {
     "data": {
      "text/plain": [
       "LinearRegression(copy_X=True, fit_intercept=True, n_jobs=1, normalize=False)"
      ]
     },
     "execution_count": 223,
     "metadata": {},
     "output_type": "execute_result"
    }
   ],
   "source": [
    "fit1.fit(pred, outcomes)"
   ]
  },
  {
   "cell_type": "code",
   "execution_count": 224,
   "metadata": {
    "collapsed": false
   },
   "outputs": [
    {
     "data": {
      "text/plain": [
       "LogisticRegression(C=1.0, class_weight=None, dual=False, fit_intercept=True,\n",
       "          intercept_scaling=1, max_iter=100, multi_class='ovr', n_jobs=1,\n",
       "          penalty='l2', random_state=None, solver='liblinear', tol=0.0001,\n",
       "          verbose=0, warm_start=False)"
      ]
     },
     "execution_count": 224,
     "metadata": {},
     "output_type": "execute_result"
    }
   ],
   "source": [
    "fit2 = linear_model.LogisticRegression()\n",
    "fit2.fit(pred, outcomes)"
   ]
  },
  {
   "cell_type": "code",
   "execution_count": 225,
   "metadata": {
    "collapsed": false
   },
   "outputs": [
    {
     "data": {
      "text/plain": [
       "array([[-0.45450825,  1.38811617, -0.02827812]])"
      ]
     },
     "execution_count": 225,
     "metadata": {},
     "output_type": "execute_result"
    }
   ],
   "source": [
    "fit2.coef_"
   ]
  },
  {
   "cell_type": "code",
   "execution_count": 226,
   "metadata": {
    "collapsed": false
   },
   "outputs": [],
   "source": [
    "v= pd.DataFrame(fit2.predict_proba(pred))\n"
   ]
  },
  {
   "cell_type": "code",
   "execution_count": 227,
   "metadata": {
    "collapsed": false
   },
   "outputs": [
    {
     "data": {
      "text/html": [
       "<div style=\"max-height:1000px;max-width:1500px;overflow:auto;\">\n",
       "<table border=\"1\" class=\"dataframe\">\n",
       "  <thead>\n",
       "    <tr style=\"text-align: right;\">\n",
       "      <th></th>\n",
       "      <th>0</th>\n",
       "      <th>1</th>\n",
       "    </tr>\n",
       "  </thead>\n",
       "  <tbody>\n",
       "    <tr>\n",
       "      <th>count</th>\n",
       "      <td> 576.000000</td>\n",
       "      <td> 576.000000</td>\n",
       "    </tr>\n",
       "    <tr>\n",
       "      <th>mean</th>\n",
       "      <td>   0.757990</td>\n",
       "      <td>   0.242010</td>\n",
       "    </tr>\n",
       "    <tr>\n",
       "      <th>std</th>\n",
       "      <td>   0.166845</td>\n",
       "      <td>   0.166845</td>\n",
       "    </tr>\n",
       "    <tr>\n",
       "      <th>min</th>\n",
       "      <td>   0.186097</td>\n",
       "      <td>   0.005404</td>\n",
       "    </tr>\n",
       "    <tr>\n",
       "      <th>25%</th>\n",
       "      <td>   0.651773</td>\n",
       "      <td>   0.095229</td>\n",
       "    </tr>\n",
       "    <tr>\n",
       "      <th>50%</th>\n",
       "      <td>   0.793474</td>\n",
       "      <td>   0.206526</td>\n",
       "    </tr>\n",
       "    <tr>\n",
       "      <th>75%</th>\n",
       "      <td>   0.904771</td>\n",
       "      <td>   0.348227</td>\n",
       "    </tr>\n",
       "    <tr>\n",
       "      <th>max</th>\n",
       "      <td>   0.994596</td>\n",
       "      <td>   0.813903</td>\n",
       "    </tr>\n",
       "  </tbody>\n",
       "</table>\n",
       "</div>"
      ],
      "text/plain": [
       "                0           1\n",
       "count  576.000000  576.000000\n",
       "mean     0.757990    0.242010\n",
       "std      0.166845    0.166845\n",
       "min      0.186097    0.005404\n",
       "25%      0.651773    0.095229\n",
       "50%      0.793474    0.206526\n",
       "75%      0.904771    0.348227\n",
       "max      0.994596    0.813903"
      ]
     },
     "execution_count": 227,
     "metadata": {},
     "output_type": "execute_result"
    }
   ],
   "source": [
    "v.describe()"
   ]
  },
  {
   "cell_type": "code",
   "execution_count": 228,
   "metadata": {
    "collapsed": false
   },
   "outputs": [
    {
     "data": {
      "text/html": [
       "<div style=\"max-height:1000px;max-width:1500px;overflow:auto;\">\n",
       "<table border=\"1\" class=\"dataframe\">\n",
       "  <thead>\n",
       "    <tr style=\"text-align: right;\">\n",
       "      <th></th>\n",
       "      <th>0</th>\n",
       "      <th>1</th>\n",
       "    </tr>\n",
       "  </thead>\n",
       "  <tbody>\n",
       "    <tr>\n",
       "      <th>0</th>\n",
       "      <td> 0.343475</td>\n",
       "      <td> 0.656525</td>\n",
       "    </tr>\n",
       "    <tr>\n",
       "      <th>1</th>\n",
       "      <td> 0.186097</td>\n",
       "      <td> 0.813903</td>\n",
       "    </tr>\n",
       "    <tr>\n",
       "      <th>2</th>\n",
       "      <td> 0.251124</td>\n",
       "      <td> 0.748876</td>\n",
       "    </tr>\n",
       "    <tr>\n",
       "      <th>3</th>\n",
       "      <td> 0.285997</td>\n",
       "      <td> 0.714003</td>\n",
       "    </tr>\n",
       "    <tr>\n",
       "      <th>4</th>\n",
       "      <td> 0.391671</td>\n",
       "      <td> 0.608329</td>\n",
       "    </tr>\n",
       "  </tbody>\n",
       "</table>\n",
       "</div>"
      ],
      "text/plain": [
       "          0         1\n",
       "0  0.343475  0.656525\n",
       "1  0.186097  0.813903\n",
       "2  0.251124  0.748876\n",
       "3  0.285997  0.714003\n",
       "4  0.391671  0.608329"
      ]
     },
     "execution_count": 228,
     "metadata": {},
     "output_type": "execute_result"
    }
   ],
   "source": [
    "v[:5]"
   ]
  },
  {
   "cell_type": "code",
   "execution_count": 229,
   "metadata": {
    "collapsed": true
   },
   "outputs": [],
   "source": [
    "bt = pd.DataFrame.from_csv('../data/raw/blood_test.csv')"
   ]
  },
  {
   "cell_type": "code",
   "execution_count": 230,
   "metadata": {
    "collapsed": false
   },
   "outputs": [
    {
     "data": {
      "text/html": [
       "<div style=\"max-height:1000px;max-width:1500px;overflow:auto;\">\n",
       "<table border=\"1\" class=\"dataframe\">\n",
       "  <thead>\n",
       "    <tr style=\"text-align: right;\">\n",
       "      <th></th>\n",
       "      <th>Months since Last Donation</th>\n",
       "      <th>Number of Donations</th>\n",
       "      <th>Total Volume Donated (c.c.)</th>\n",
       "      <th>Months since First Donation</th>\n",
       "    </tr>\n",
       "  </thead>\n",
       "  <tbody>\n",
       "    <tr>\n",
       "      <th>659</th>\n",
       "      <td>  2</td>\n",
       "      <td> 12</td>\n",
       "      <td> 3000</td>\n",
       "      <td> 52</td>\n",
       "    </tr>\n",
       "    <tr>\n",
       "      <th>276</th>\n",
       "      <td> 21</td>\n",
       "      <td>  7</td>\n",
       "      <td> 1750</td>\n",
       "      <td> 38</td>\n",
       "    </tr>\n",
       "    <tr>\n",
       "      <th>263</th>\n",
       "      <td>  4</td>\n",
       "      <td>  1</td>\n",
       "      <td>  250</td>\n",
       "      <td>  4</td>\n",
       "    </tr>\n",
       "    <tr>\n",
       "      <th>303</th>\n",
       "      <td> 11</td>\n",
       "      <td> 11</td>\n",
       "      <td> 2750</td>\n",
       "      <td> 38</td>\n",
       "    </tr>\n",
       "    <tr>\n",
       "      <th>83 </th>\n",
       "      <td>  4</td>\n",
       "      <td> 12</td>\n",
       "      <td> 3000</td>\n",
       "      <td> 34</td>\n",
       "    </tr>\n",
       "  </tbody>\n",
       "</table>\n",
       "</div>"
      ],
      "text/plain": [
       "     Months since Last Donation  Number of Donations  \\\n",
       "659                           2                   12   \n",
       "276                          21                    7   \n",
       "263                           4                    1   \n",
       "303                          11                   11   \n",
       "83                            4                   12   \n",
       "\n",
       "     Total Volume Donated (c.c.)  Months since First Donation  \n",
       "659                         3000                           52  \n",
       "276                         1750                           38  \n",
       "263                          250                            4  \n",
       "303                         2750                           38  \n",
       "83                          3000                           34  "
      ]
     },
     "execution_count": 230,
     "metadata": {},
     "output_type": "execute_result"
    }
   ],
   "source": [
    "#need to to do square-rooting and logging and what not\n",
    "bt[:5]\n",
    "#could just redo by hand, or make a function that does above?\n",
    "#vt= pd.DataFrame(fit2.predict_proba(bt))"
   ]
  },
  {
   "cell_type": "code",
   "execution_count": 231,
   "metadata": {
    "collapsed": false
   },
   "outputs": [
    {
     "data": {
      "text/plain": [
       "Months since Last Donation     200\n",
       "Number of Donations            200\n",
       "Total Volume Donated (c.c.)    200\n",
       "Months since First Donation    200\n",
       "dtype: int64"
      ]
     },
     "execution_count": 231,
     "metadata": {},
     "output_type": "execute_result"
    }
   ],
   "source": [
    "bt.count()"
   ]
  },
  {
   "cell_type": "code",
   "execution_count": 232,
   "metadata": {
    "collapsed": false
   },
   "outputs": [
    {
     "data": {
      "text/html": [
       "<div style=\"max-height:1000px;max-width:1500px;overflow:auto;\">\n",
       "<table border=\"1\" class=\"dataframe\">\n",
       "  <thead>\n",
       "    <tr style=\"text-align: right;\">\n",
       "      <th></th>\n",
       "      <th>Months since Last Donation square root</th>\n",
       "      <th>Number of Donations log</th>\n",
       "      <th>Months since First Donation</th>\n",
       "    </tr>\n",
       "  </thead>\n",
       "  <tbody>\n",
       "    <tr>\n",
       "      <th>664</th>\n",
       "      <td> 0.000000</td>\n",
       "      <td> 2.639057</td>\n",
       "      <td> 28</td>\n",
       "    </tr>\n",
       "    <tr>\n",
       "      <th>441</th>\n",
       "      <td> 1.000000</td>\n",
       "      <td> 2.833213</td>\n",
       "      <td> 35</td>\n",
       "    </tr>\n",
       "    <tr>\n",
       "      <th>160</th>\n",
       "      <td> 1.414214</td>\n",
       "      <td> 3.044522</td>\n",
       "      <td> 45</td>\n",
       "    </tr>\n",
       "  </tbody>\n",
       "</table>\n",
       "</div>"
      ],
      "text/plain": [
       "     Months since Last Donation square root  Number of Donations log  \\\n",
       "664                                0.000000                 2.639057   \n",
       "441                                1.000000                 2.833213   \n",
       "160                                1.414214                 3.044522   \n",
       "\n",
       "     Months since First Donation  \n",
       "664                           28  \n",
       "441                           35  \n",
       "160                           45  "
      ]
     },
     "execution_count": 232,
     "metadata": {},
     "output_type": "execute_result"
    }
   ],
   "source": [
    "b2.iloc[1:4, 0:3]"
   ]
  },
  {
   "cell_type": "code",
   "execution_count": 233,
   "metadata": {
    "collapsed": false
   },
   "outputs": [
    {
     "name": "stdout",
     "output_type": "stream",
     "text": [
      "[-0.57866836 -0.50813732 -0.48442203]\n"
     ]
    }
   ],
   "source": [
    "X = b2.iloc[:,0:3].as_matrix()\n",
    "y = list(b2[\"Made Donation in March 2007\"])\n",
    "\n",
    "from sklearn.linear_model import LogisticRegression\n",
    "from sklearn.model_selection import cross_val_score\n",
    "\n",
    "clf   = linear_model.LogisticRegression()\n",
    "score = sklearn.model_selection.cross_val_score( \n",
    "    clf, \n",
    "    X, y,\n",
    "    scoring=\"neg_log_loss\")\n",
    "\n",
    "print(score)"
   ]
  },
  {
   "cell_type": "code",
   "execution_count": 234,
   "metadata": {
    "collapsed": false
   },
   "outputs": [
    {
     "data": {
      "text/html": [
       "<div style=\"max-height:1000px;max-width:1500px;overflow:auto;\">\n",
       "<table border=\"1\" class=\"dataframe\">\n",
       "  <thead>\n",
       "    <tr style=\"text-align: right;\">\n",
       "      <th></th>\n",
       "      <th>Months since Last Donation</th>\n",
       "      <th>Number of Donations</th>\n",
       "      <th>Total Volume Donated (c.c.)</th>\n",
       "      <th>Months since First Donation</th>\n",
       "    </tr>\n",
       "  </thead>\n",
       "  <tbody>\n",
       "    <tr>\n",
       "      <th>276</th>\n",
       "      <td> 21</td>\n",
       "      <td>  7</td>\n",
       "      <td> 1750</td>\n",
       "      <td> 38</td>\n",
       "    </tr>\n",
       "    <tr>\n",
       "      <th>263</th>\n",
       "      <td>  4</td>\n",
       "      <td>  1</td>\n",
       "      <td>  250</td>\n",
       "      <td>  4</td>\n",
       "    </tr>\n",
       "    <tr>\n",
       "      <th>303</th>\n",
       "      <td> 11</td>\n",
       "      <td> 11</td>\n",
       "      <td> 2750</td>\n",
       "      <td> 38</td>\n",
       "    </tr>\n",
       "    <tr>\n",
       "      <th>83 </th>\n",
       "      <td>  4</td>\n",
       "      <td> 12</td>\n",
       "      <td> 3000</td>\n",
       "      <td> 34</td>\n",
       "    </tr>\n",
       "  </tbody>\n",
       "</table>\n",
       "</div>"
      ],
      "text/plain": [
       "     Months since Last Donation  Number of Donations  \\\n",
       "276                          21                    7   \n",
       "263                           4                    1   \n",
       "303                          11                   11   \n",
       "83                            4                   12   \n",
       "\n",
       "     Total Volume Donated (c.c.)  Months since First Donation  \n",
       "276                         1750                           38  \n",
       "263                          250                            4  \n",
       "303                         2750                           38  \n",
       "83                          3000                           34  "
      ]
     },
     "execution_count": 234,
     "metadata": {},
     "output_type": "execute_result"
    }
   ],
   "source": [
    "bt[1:5]"
   ]
  },
  {
   "cell_type": "code",
   "execution_count": 241,
   "metadata": {
    "collapsed": false
   },
   "outputs": [
    {
     "name": "stderr",
     "output_type": "stream",
     "text": [
      "/anaconda/lib/python2.7/site-packages/ipykernel/__main__.py:3: SettingWithCopyWarning: A value is trying to be set on a copy of a slice from a DataFrame\n",
      "  app.launch_new_instance()\n"
     ]
    }
   ],
   "source": [
    "bt1 = bt[['Months since Last Donation', 'Number of Donations','Months since First Donation']]\n",
    "bt1['Months since Last Donation Outliers Removed'] = bt1['Months since Last Donation']\n",
    "bt1.loc[bt1['Months since Last Donation'] > 35, 'Months since Last Donation Outliers Removed'] = 35\n"
   ]
  },
  {
   "cell_type": "code",
   "execution_count": 242,
   "metadata": {
    "collapsed": false
   },
   "outputs": [
    {
     "data": {
      "text/html": [
       "<div style=\"max-height:1000px;max-width:1500px;overflow:auto;\">\n",
       "<table border=\"1\" class=\"dataframe\">\n",
       "  <thead>\n",
       "    <tr style=\"text-align: right;\">\n",
       "      <th></th>\n",
       "      <th>Months since Last Donation</th>\n",
       "      <th>Number of Donations</th>\n",
       "      <th>Months since First Donation</th>\n",
       "      <th>Months since Last Donation Outliers Removed</th>\n",
       "    </tr>\n",
       "  </thead>\n",
       "  <tbody>\n",
       "    <tr>\n",
       "      <th>276</th>\n",
       "      <td> 21</td>\n",
       "      <td>  7</td>\n",
       "      <td> 38</td>\n",
       "      <td> 21</td>\n",
       "    </tr>\n",
       "    <tr>\n",
       "      <th>263</th>\n",
       "      <td>  4</td>\n",
       "      <td>  1</td>\n",
       "      <td>  4</td>\n",
       "      <td>  4</td>\n",
       "    </tr>\n",
       "    <tr>\n",
       "      <th>303</th>\n",
       "      <td> 11</td>\n",
       "      <td> 11</td>\n",
       "      <td> 38</td>\n",
       "      <td> 11</td>\n",
       "    </tr>\n",
       "    <tr>\n",
       "      <th>83 </th>\n",
       "      <td>  4</td>\n",
       "      <td> 12</td>\n",
       "      <td> 34</td>\n",
       "      <td>  4</td>\n",
       "    </tr>\n",
       "  </tbody>\n",
       "</table>\n",
       "</div>"
      ],
      "text/plain": [
       "     Months since Last Donation  Number of Donations  \\\n",
       "276                          21                    7   \n",
       "263                           4                    1   \n",
       "303                          11                   11   \n",
       "83                            4                   12   \n",
       "\n",
       "     Months since First Donation  Months since Last Donation Outliers Removed  \n",
       "276                           38                                           21  \n",
       "263                            4                                            4  \n",
       "303                           38                                           11  \n",
       "83                            34                                            4  "
      ]
     },
     "execution_count": 242,
     "metadata": {},
     "output_type": "execute_result"
    }
   ],
   "source": [
    "bt1[1:5]"
   ]
  },
  {
   "cell_type": "code",
   "execution_count": 243,
   "metadata": {
    "collapsed": false
   },
   "outputs": [],
   "source": [
    "bt1['Months since Last Donation square root'] = bt1['Months since Last Donation Outliers Removed'].apply(math.sqrt)\n",
    "\n",
    "bt1['Number of Donations log'] = (bt1['Number of Donations']+1).apply(numpy.log)\n"
   ]
  },
  {
   "cell_type": "code",
   "execution_count": 244,
   "metadata": {
    "collapsed": true
   },
   "outputs": [],
   "source": [
    "bt2 = bt1[['Months since Last Donation square root', 'Number of Donations log', 'Months since First Donation']]"
   ]
  },
  {
   "cell_type": "code",
   "execution_count": 245,
   "metadata": {
    "collapsed": false
   },
   "outputs": [
    {
     "data": {
      "text/html": [
       "<div style=\"max-height:1000px;max-width:1500px;overflow:auto;\">\n",
       "<table border=\"1\" class=\"dataframe\">\n",
       "  <thead>\n",
       "    <tr style=\"text-align: right;\">\n",
       "      <th></th>\n",
       "      <th>Months since Last Donation square root</th>\n",
       "      <th>Number of Donations log</th>\n",
       "      <th>Months since First Donation</th>\n",
       "    </tr>\n",
       "  </thead>\n",
       "  <tbody>\n",
       "    <tr>\n",
       "      <th>276</th>\n",
       "      <td> 4.582576</td>\n",
       "      <td> 2.079442</td>\n",
       "      <td> 38</td>\n",
       "    </tr>\n",
       "    <tr>\n",
       "      <th>263</th>\n",
       "      <td> 2.000000</td>\n",
       "      <td> 0.693147</td>\n",
       "      <td>  4</td>\n",
       "    </tr>\n",
       "    <tr>\n",
       "      <th>303</th>\n",
       "      <td> 3.316625</td>\n",
       "      <td> 2.484907</td>\n",
       "      <td> 38</td>\n",
       "    </tr>\n",
       "    <tr>\n",
       "      <th>83 </th>\n",
       "      <td> 2.000000</td>\n",
       "      <td> 2.564949</td>\n",
       "      <td> 34</td>\n",
       "    </tr>\n",
       "  </tbody>\n",
       "</table>\n",
       "</div>"
      ],
      "text/plain": [
       "     Months since Last Donation square root  Number of Donations log  \\\n",
       "276                                4.582576                 2.079442   \n",
       "263                                2.000000                 0.693147   \n",
       "303                                3.316625                 2.484907   \n",
       "83                                 2.000000                 2.564949   \n",
       "\n",
       "     Months since First Donation  \n",
       "276                           38  \n",
       "263                            4  \n",
       "303                           38  \n",
       "83                            34  "
      ]
     },
     "execution_count": 245,
     "metadata": {},
     "output_type": "execute_result"
    }
   ],
   "source": [
    "bt2[1:5]"
   ]
  },
  {
   "cell_type": "code",
   "execution_count": 246,
   "metadata": {
    "collapsed": false
   },
   "outputs": [
    {
     "data": {
      "text/plain": [
       "LogisticRegression(C=1.0, class_weight=None, dual=False, fit_intercept=True,\n",
       "          intercept_scaling=1, max_iter=100, multi_class='ovr', n_jobs=1,\n",
       "          penalty='l2', random_state=None, solver='liblinear', tol=0.0001,\n",
       "          verbose=0, warm_start=False)"
      ]
     },
     "execution_count": 246,
     "metadata": {},
     "output_type": "execute_result"
    }
   ],
   "source": [
    "clf.fit(X,y)"
   ]
  },
  {
   "cell_type": "code",
   "execution_count": 247,
   "metadata": {
    "collapsed": false
   },
   "outputs": [
    {
     "data": {
      "text/plain": [
       "array([[ 0.48718888,  0.51281112],\n",
       "       [ 0.84115388,  0.15884612],\n",
       "       [ 0.81090761,  0.18909239],\n",
       "       [ 0.62916139,  0.37083861],\n",
       "       [ 0.42702072,  0.57297928],\n",
       "       [ 0.28498733,  0.71501267],\n",
       "       [ 0.70952654,  0.29047346],\n",
       "       [ 0.92623866,  0.07376134],\n",
       "       [ 0.98913085,  0.01086915],\n",
       "       [ 0.9353713 ,  0.0646287 ],\n",
       "       [ 0.8267581 ,  0.1732419 ],\n",
       "       [ 0.85447363,  0.14552637],\n",
       "       [ 0.74721038,  0.25278962],\n",
       "       [ 0.81090761,  0.18909239],\n",
       "       [ 0.69128186,  0.30871814],\n",
       "       [ 0.9048472 ,  0.0951528 ],\n",
       "       [ 0.71858898,  0.28141102],\n",
       "       [ 0.5490258 ,  0.4509742 ],\n",
       "       [ 0.92030364,  0.07969636],\n",
       "       [ 0.68334093,  0.31665907],\n",
       "       [ 0.49307267,  0.50692733],\n",
       "       [ 0.64418143,  0.35581857],\n",
       "       [ 0.56488066,  0.43511934],\n",
       "       [ 0.81090761,  0.18909239],\n",
       "       [ 0.76655514,  0.23344486],\n",
       "       [ 0.74745776,  0.25254224],\n",
       "       [ 0.6952517 ,  0.3047483 ],\n",
       "       [ 0.92623866,  0.07376134],\n",
       "       [ 0.69700726,  0.30299274],\n",
       "       [ 0.48718888,  0.51281112],\n",
       "       [ 0.72667235,  0.27332765],\n",
       "       [ 0.9599853 ,  0.0400147 ],\n",
       "       [ 0.75641374,  0.24358626],\n",
       "       [ 0.74242273,  0.25757727],\n",
       "       [ 0.87428357,  0.12571643],\n",
       "       [ 0.69782257,  0.30217743],\n",
       "       [ 0.84199285,  0.15800715],\n",
       "       [ 0.92623866,  0.07376134],\n",
       "       [ 0.59763309,  0.40236691],\n",
       "       [ 0.81090761,  0.18909239],\n",
       "       [ 0.65177281,  0.34822719],\n",
       "       [ 0.81795835,  0.18204165],\n",
       "       [ 0.94285762,  0.05714238],\n",
       "       [ 0.57121026,  0.42878974],\n",
       "       [ 0.88583201,  0.11416799],\n",
       "       [ 0.75641374,  0.24358626],\n",
       "       [ 0.61462171,  0.38537829],\n",
       "       [ 0.89678193,  0.10321807],\n",
       "       [ 0.92623866,  0.07376134],\n",
       "       [ 0.80237255,  0.19762745],\n",
       "       [ 0.47290016,  0.52709984],\n",
       "       [ 0.54439953,  0.45560047],\n",
       "       [ 0.81948796,  0.18051204],\n",
       "       [ 0.66966536,  0.33033464],\n",
       "       [ 0.95792316,  0.04207684],\n",
       "       [ 0.78982164,  0.21017836],\n",
       "       [ 0.79078082,  0.20921918],\n",
       "       [ 0.53217142,  0.46782858],\n",
       "       [ 0.68877043,  0.31122957],\n",
       "       [ 0.49996354,  0.50003646],\n",
       "       [ 0.81090761,  0.18909239],\n",
       "       [ 0.92077753,  0.07922247],\n",
       "       [ 0.75574513,  0.24425487],\n",
       "       [ 0.62821077,  0.37178923],\n",
       "       [ 0.92077753,  0.07922247],\n",
       "       [ 0.920744  ,  0.079256  ],\n",
       "       [ 0.91399925,  0.08600075],\n",
       "       [ 0.79506758,  0.20493242],\n",
       "       [ 0.64542481,  0.35457519],\n",
       "       [ 0.81090761,  0.18909239],\n",
       "       [ 0.80312721,  0.19687279],\n",
       "       [ 0.83621088,  0.16378912],\n",
       "       [ 0.9851861 ,  0.0148139 ],\n",
       "       [ 0.81090761,  0.18909239],\n",
       "       [ 0.94332504,  0.05667496],\n",
       "       [ 0.86136629,  0.13863371],\n",
       "       [ 0.87696757,  0.12303243],\n",
       "       [ 0.74294437,  0.25705563],\n",
       "       [ 0.87136503,  0.12863497],\n",
       "       [ 0.53217142,  0.46782858],\n",
       "       [ 0.9851861 ,  0.0148139 ],\n",
       "       [ 0.62916139,  0.37083861],\n",
       "       [ 0.6952517 ,  0.3047483 ],\n",
       "       [ 0.65177281,  0.34822719],\n",
       "       [ 0.47290016,  0.52709984],\n",
       "       [ 0.95732168,  0.04267832],\n",
       "       [ 0.9048472 ,  0.0951528 ],\n",
       "       [ 0.91865571,  0.08134429],\n",
       "       [ 0.79506758,  0.20493242],\n",
       "       [ 0.63178315,  0.36821685],\n",
       "       [ 0.81090761,  0.18909239],\n",
       "       [ 0.90468807,  0.09531193],\n",
       "       [ 0.88583201,  0.11416799],\n",
       "       [ 0.89486613,  0.10513387],\n",
       "       [ 0.71008085,  0.28991915],\n",
       "       [ 0.65514518,  0.34485482],\n",
       "       [ 0.61495789,  0.38504211],\n",
       "       [ 0.72771786,  0.27228214],\n",
       "       [ 0.91177474,  0.08822526],\n",
       "       [ 0.70952654,  0.29047346],\n",
       "       [ 0.75641374,  0.24358626],\n",
       "       [ 0.86322911,  0.13677089],\n",
       "       [ 0.92718108,  0.07281892],\n",
       "       [ 0.75045451,  0.24954549],\n",
       "       [ 0.86186176,  0.13813824],\n",
       "       [ 0.52889339,  0.47110661],\n",
       "       [ 0.82378974,  0.17621026],\n",
       "       [ 0.52393181,  0.47606819],\n",
       "       [ 0.81090761,  0.18909239],\n",
       "       [ 0.86801194,  0.13198806],\n",
       "       [ 0.84382018,  0.15617982],\n",
       "       [ 0.81090761,  0.18909239],\n",
       "       [ 0.9599853 ,  0.0400147 ],\n",
       "       [ 0.51168762,  0.48831238],\n",
       "       [ 0.62916139,  0.37083861],\n",
       "       [ 0.9529663 ,  0.0470337 ],\n",
       "       [ 0.96317049,  0.03682951],\n",
       "       [ 0.5523711 ,  0.4476289 ],\n",
       "       [ 0.36510234,  0.63489766],\n",
       "       [ 0.76208147,  0.23791853],\n",
       "       [ 0.86322911,  0.13677089],\n",
       "       [ 0.46106651,  0.53893349],\n",
       "       [ 0.83627382,  0.16372618],\n",
       "       [ 0.26310167,  0.73689833],\n",
       "       [ 0.54503631,  0.45496369],\n",
       "       [ 0.59782917,  0.40217083],\n",
       "       [ 0.71189772,  0.28810228],\n",
       "       [ 0.84415173,  0.15584827],\n",
       "       [ 0.83627382,  0.16372618],\n",
       "       [ 0.87733852,  0.12266148],\n",
       "       [ 0.6061722 ,  0.3938278 ],\n",
       "       [ 0.9048472 ,  0.0951528 ],\n",
       "       [ 0.80269526,  0.19730474],\n",
       "       [ 0.81090761,  0.18909239],\n",
       "       [ 0.74242273,  0.25757727],\n",
       "       [ 0.70952654,  0.29047346],\n",
       "       [ 0.9048472 ,  0.0951528 ],\n",
       "       [ 0.95804072,  0.04195928],\n",
       "       [ 0.32746159,  0.67253841],\n",
       "       [ 0.77721981,  0.22278019],\n",
       "       [ 0.32759313,  0.67240687],\n",
       "       [ 0.81090761,  0.18909239],\n",
       "       [ 0.6952517 ,  0.3047483 ],\n",
       "       [ 0.79078082,  0.20921918],\n",
       "       [ 0.81090761,  0.18909239],\n",
       "       [ 0.96317049,  0.03682951],\n",
       "       [ 0.9334603 ,  0.0665397 ],\n",
       "       [ 0.67939269,  0.32060731],\n",
       "       [ 0.96784826,  0.03215174],\n",
       "       [ 0.75641374,  0.24358626],\n",
       "       [ 0.95743306,  0.04256694],\n",
       "       [ 0.36925666,  0.63074334],\n",
       "       [ 0.65482439,  0.34517561],\n",
       "       [ 0.83807394,  0.16192606],\n",
       "       [ 0.86139653,  0.13860347],\n",
       "       [ 0.73306738,  0.26693262],\n",
       "       [ 0.93727827,  0.06272173],\n",
       "       [ 0.75641374,  0.24358626],\n",
       "       [ 0.54439953,  0.45560047],\n",
       "       [ 0.9048472 ,  0.0951528 ],\n",
       "       [ 0.75574513,  0.24425487],\n",
       "       [ 0.92623866,  0.07376134],\n",
       "       [ 0.56321542,  0.43678458],\n",
       "       [ 0.50391923,  0.49608077],\n",
       "       [ 0.82989092,  0.17010908],\n",
       "       [ 0.93723635,  0.06276365],\n",
       "       [ 0.6952517 ,  0.3047483 ],\n",
       "       [ 0.72667235,  0.27332765],\n",
       "       [ 0.81090761,  0.18909239],\n",
       "       [ 0.68334093,  0.31665907],\n",
       "       [ 0.96317049,  0.03682951],\n",
       "       [ 0.98598926,  0.01401074],\n",
       "       [ 0.81090761,  0.18909239],\n",
       "       [ 0.4065287 ,  0.5934713 ],\n",
       "       [ 0.90468807,  0.09531193],\n",
       "       [ 0.93270528,  0.06729472],\n",
       "       [ 0.59119204,  0.40880796],\n",
       "       [ 0.76218628,  0.23781372],\n",
       "       [ 0.94525932,  0.05474068],\n",
       "       [ 0.81090761,  0.18909239],\n",
       "       [ 0.92623866,  0.07376134],\n",
       "       [ 0.79403137,  0.20596863],\n",
       "       [ 0.46106651,  0.53893349],\n",
       "       [ 0.93727827,  0.06272173],\n",
       "       [ 0.58700881,  0.41299119],\n",
       "       [ 0.87733852,  0.12266148],\n",
       "       [ 0.87696757,  0.12303243],\n",
       "       [ 0.9048472 ,  0.0951528 ],\n",
       "       [ 0.75641374,  0.24358626],\n",
       "       [ 0.87733852,  0.12266148],\n",
       "       [ 0.38546809,  0.61453191],\n",
       "       [ 0.78920914,  0.21079086],\n",
       "       [ 0.89486613,  0.10513387],\n",
       "       [ 0.9161873 ,  0.0838127 ],\n",
       "       [ 0.86136629,  0.13863371],\n",
       "       [ 0.93727827,  0.06272173],\n",
       "       [ 0.93112959,  0.06887041],\n",
       "       [ 0.86134348,  0.13865652],\n",
       "       [ 0.94492913,  0.05507087],\n",
       "       [ 0.66048024,  0.33951976]])"
      ]
     },
     "execution_count": 247,
     "metadata": {},
     "output_type": "execute_result"
    }
   ],
   "source": [
    "clf.predict_proba(bt2)"
   ]
  },
  {
   "cell_type": "code",
   "execution_count": 248,
   "metadata": {
    "collapsed": false
   },
   "outputs": [],
   "source": [
    "p = clf.predict_proba(bt2)"
   ]
  },
  {
   "cell_type": "code",
   "execution_count": 249,
   "metadata": {
    "collapsed": false
   },
   "outputs": [
    {
     "data": {
      "text/html": [
       "<div style=\"max-height:1000px;max-width:1500px;overflow:auto;\">\n",
       "<table border=\"1\" class=\"dataframe\">\n",
       "  <thead>\n",
       "    <tr style=\"text-align: right;\">\n",
       "      <th></th>\n",
       "      <th>Months since Last Donation square root</th>\n",
       "      <th>Number of Donations log</th>\n",
       "      <th>Months since First Donation</th>\n",
       "      <th>Made Donation in March 2007</th>\n",
       "    </tr>\n",
       "  </thead>\n",
       "  <tbody>\n",
       "    <tr>\n",
       "      <th>659</th>\n",
       "      <td> 1.414214</td>\n",
       "      <td> 2.564949</td>\n",
       "      <td> 52</td>\n",
       "      <td> 0.512811</td>\n",
       "    </tr>\n",
       "    <tr>\n",
       "      <th>276</th>\n",
       "      <td> 4.582576</td>\n",
       "      <td> 2.079442</td>\n",
       "      <td> 38</td>\n",
       "      <td> 0.158846</td>\n",
       "    </tr>\n",
       "    <tr>\n",
       "      <th>263</th>\n",
       "      <td> 2.000000</td>\n",
       "      <td> 0.693147</td>\n",
       "      <td>  4</td>\n",
       "      <td> 0.189092</td>\n",
       "    </tr>\n",
       "    <tr>\n",
       "      <th>303</th>\n",
       "      <td> 3.316625</td>\n",
       "      <td> 2.484907</td>\n",
       "      <td> 38</td>\n",
       "      <td> 0.370839</td>\n",
       "    </tr>\n",
       "    <tr>\n",
       "      <th>83 </th>\n",
       "      <td> 2.000000</td>\n",
       "      <td> 2.564949</td>\n",
       "      <td> 34</td>\n",
       "      <td> 0.572979</td>\n",
       "    </tr>\n",
       "  </tbody>\n",
       "</table>\n",
       "</div>"
      ],
      "text/plain": [
       "     Months since Last Donation square root  Number of Donations log  \\\n",
       "659                                1.414214                 2.564949   \n",
       "276                                4.582576                 2.079442   \n",
       "263                                2.000000                 0.693147   \n",
       "303                                3.316625                 2.484907   \n",
       "83                                 2.000000                 2.564949   \n",
       "\n",
       "     Months since First Donation  Made Donation in March 2007  \n",
       "659                           52                     0.512811  \n",
       "276                           38                     0.158846  \n",
       "263                            4                     0.189092  \n",
       "303                           38                     0.370839  \n",
       "83                            34                     0.572979  "
      ]
     },
     "execution_count": 249,
     "metadata": {},
     "output_type": "execute_result"
    }
   ],
   "source": [
    "bt2['Made Donation in March 2007'] = p[:,1]\n",
    "bt2.head()"
   ]
  },
  {
   "cell_type": "code",
   "execution_count": 256,
   "metadata": {
    "collapsed": false
   },
   "outputs": [],
   "source": [
    "submit_dir = '../data/processed/'\n",
    "submit_filename = 'submit_cleaned_logistic_regression.csv'\n",
    "bt2.to_csv(submit_dir+submit_filename, \n",
    "         #  columns =('Unnamed: 0', 'Made Donation in March 2007'), \n",
    "           index=True)"
   ]
  },
  {
   "cell_type": "code",
   "execution_count": null,
   "metadata": {
    "collapsed": true
   },
   "outputs": [],
   "source": []
  }
 ],
 "metadata": {
  "kernelspec": {
   "display_name": "Python 2",
   "language": "python",
   "name": "python2"
  },
  "language_info": {
   "codemirror_mode": {
    "name": "ipython",
    "version": 2
   },
   "file_extension": ".py",
   "mimetype": "text/x-python",
   "name": "python",
   "nbconvert_exporter": "python",
   "pygments_lexer": "ipython2",
   "version": "2.7.12"
  }
 },
 "nbformat": 4,
 "nbformat_minor": 1
}
