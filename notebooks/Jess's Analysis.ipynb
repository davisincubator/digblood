{
 "cells": [
  {
   "cell_type": "markdown",
   "metadata": {},
   "source": [
    "## Jess's DIGBlood IPython notebook"
   ]
  },
  {
   "cell_type": "code",
   "execution_count": 14,
   "metadata": {
    "collapsed": false
   },
   "outputs": [],
   "source": [
    "# Import stuff\n",
    "%matplotlib inline\n",
    "import pandas as pd\n",
    "import numpy as np\n",
    "import statsmodels.formula.api as smf\n",
    "import scipy\n",
    "from scipy.stats import pearsonr\n",
    "from __future__ import division\n",
    "import matplotlib.pyplot as plt\n",
    "from statsmodels.nonparametric.smoothers_lowess import lowess"
   ]
  },
  {
   "cell_type": "code",
   "execution_count": 15,
   "metadata": {
    "collapsed": false
   },
   "outputs": [
    {
     "name": "stdout",
     "output_type": "stream",
     "text": [
      "C:\\Users\\dss-lu-shahin\\Documents\\GitHub\\digblood\\data\\raw\\blood_train.csv\n"
     ]
    }
   ],
   "source": [
    "import os\n",
    "bloodPath =  os.path.abspath(os.path.join(os.getcwd(),'..'))\n",
    "trainPath =  os.path.join(bloodPath,'data','raw','blood_train.csv')\n",
    "print trainPath"
   ]
  },
  {
   "cell_type": "code",
   "execution_count": 16,
   "metadata": {
    "collapsed": false
   },
   "outputs": [],
   "source": [
    "df = pd.DataFrame.from_csv(trainPath)\n",
    "df.columns = [c.replace(' ', '_') for c in df.columns]"
   ]
  },
  {
   "cell_type": "code",
   "execution_count": 17,
   "metadata": {
    "collapsed": false
   },
   "outputs": [
    {
     "data": {
      "text/html": [
       "<div>\n",
       "<table border=\"1\" class=\"dataframe\">\n",
       "  <thead>\n",
       "    <tr style=\"text-align: right;\">\n",
       "      <th></th>\n",
       "      <th>Months_since_Last_Donation</th>\n",
       "      <th>Number_of_Donations</th>\n",
       "      <th>Total_Volume_Donated_(c.c.)</th>\n",
       "      <th>Months_since_First_Donation</th>\n",
       "      <th>Made_Donation_in_March_2007</th>\n",
       "    </tr>\n",
       "  </thead>\n",
       "  <tbody>\n",
       "    <tr>\n",
       "      <th>619</th>\n",
       "      <td>2</td>\n",
       "      <td>50</td>\n",
       "      <td>12500</td>\n",
       "      <td>98</td>\n",
       "      <td>1</td>\n",
       "    </tr>\n",
       "    <tr>\n",
       "      <th>664</th>\n",
       "      <td>0</td>\n",
       "      <td>13</td>\n",
       "      <td>3250</td>\n",
       "      <td>28</td>\n",
       "      <td>1</td>\n",
       "    </tr>\n",
       "    <tr>\n",
       "      <th>441</th>\n",
       "      <td>1</td>\n",
       "      <td>16</td>\n",
       "      <td>4000</td>\n",
       "      <td>35</td>\n",
       "      <td>1</td>\n",
       "    </tr>\n",
       "    <tr>\n",
       "      <th>160</th>\n",
       "      <td>2</td>\n",
       "      <td>20</td>\n",
       "      <td>5000</td>\n",
       "      <td>45</td>\n",
       "      <td>1</td>\n",
       "    </tr>\n",
       "    <tr>\n",
       "      <th>358</th>\n",
       "      <td>1</td>\n",
       "      <td>24</td>\n",
       "      <td>6000</td>\n",
       "      <td>77</td>\n",
       "      <td>0</td>\n",
       "    </tr>\n",
       "  </tbody>\n",
       "</table>\n",
       "</div>"
      ],
      "text/plain": [
       "     Months_since_Last_Donation  Number_of_Donations  \\\n",
       "619                           2                   50   \n",
       "664                           0                   13   \n",
       "441                           1                   16   \n",
       "160                           2                   20   \n",
       "358                           1                   24   \n",
       "\n",
       "     Total_Volume_Donated_(c.c.)  Months_since_First_Donation  \\\n",
       "619                        12500                           98   \n",
       "664                         3250                           28   \n",
       "441                         4000                           35   \n",
       "160                         5000                           45   \n",
       "358                         6000                           77   \n",
       "\n",
       "     Made_Donation_in_March_2007  \n",
       "619                            1  \n",
       "664                            1  \n",
       "441                            1  \n",
       "160                            1  \n",
       "358                            0  "
      ]
     },
     "execution_count": 17,
     "metadata": {},
     "output_type": "execute_result"
    }
   ],
   "source": [
    "#Show the first few lines of the database\n",
    "df[:5]"
   ]
  },
  {
   "cell_type": "code",
   "execution_count": 18,
   "metadata": {
    "collapsed": false
   },
   "outputs": [
    {
     "data": {
      "text/plain": [
       "(1.0, 0.0)"
      ]
     },
     "execution_count": 18,
     "metadata": {},
     "output_type": "execute_result"
    }
   ],
   "source": [
    "\n",
    "pearsonr(df['Number_of_Donations'],df['Total_Volume_Donated_(c.c.)'])"
   ]
  },
  {
   "cell_type": "code",
   "execution_count": 19,
   "metadata": {
    "collapsed": false
   },
   "outputs": [
    {
     "data": {
      "image/png": "[encoded data removed]",
      "text/plain": [
       "<matplotlib.figure.Figure at 0x8fa10b0>"
      ]
     },
     "metadata": {},
     "output_type": "display_data"
    }
   ],
   "source": [
    "data = df[['Months_since_Last_Donation','Made_Donation_in_March_2007']].groupby(['Months_since_Last_Donation']).mean().plot(kind = 'bar')\n"
   ]
  },
  {
   "cell_type": "code",
   "execution_count": 76,
   "metadata": {
    "collapsed": false
   },
   "outputs": [
    {
     "name": "stdout",
     "output_type": "stream",
     "text": [
      "[ 0  1  2  3  4  5  6  7  8  9 10 11 12 13 14 15 16 17 18 19 20 21 22 23 24\n",
      " 25 26 27 28 29 30 31 32 33 34 35 36 37 38 39 40 41 42 43 44 45 46 47 48 49\n",
      " 50 51 52 53 54 55 56 57 58 59 60 61 62 63 64 65 66 67 68 69 70 71 72 73 74\n",
      " 75 76 77 78 79 80 81 82 83 84 85 86 87 88 89 90 91 92 93 94 95 96 97 98 99]\n",
      "[ 0  1  2  3  4  5  6  7  8  9 10 11 12 13 14 15 16 17 18 19 20 21 22 23 24\n",
      " 25 26 27 28 29 30 31 32 33 34 35 36 37 38 39 40 41 42 43 44 45 46 47 48 49\n",
      " 50 51 52 53 54 55 56 57 58 59 60 61 62 63 64 65 66 67 68 69 70 71 72 73 74\n",
      " 75 76 77 78 79 80 81 82 83 84 85 86 87 88 89 90 91 92 93 94 95 96 97 98 99]\n"
     ]
    },
    {
     "data": {
      "image/png": "[encoded data removed]",
      "text/plain": [
       "<matplotlib.figure.Figure at 0xaf8b350>"
      ]
     },
     "metadata": {},
     "output_type": "display_data"
    }
   ],
   "source": [
    "# From http://stackoverflow.com/questions/18517722/weighted-moving-average-in-python \n",
    "def weighted_moving_average(x,y,step_size=0.05,width=1,bin_range =[0, 1]):\n",
    "    bin_centers  = np.arange(bin_range[0],bin_range[1])\n",
    "    bin_avg = np.zeros(len(bin_centers))\n",
    "\n",
    "    #We're going to weight with a Gaussian function\n",
    "    def gaussian(x,amp=1,mean=0,sigma=1):\n",
    "        return amp*np.exp(-(x-mean)**2/(2*sigma**2))\n",
    "\n",
    "    for index in range(0,len(bin_centers)):\n",
    "        bin_center = bin_centers[index]\n",
    "        weights = gaussian(x,mean=bin_center,sigma=width)\n",
    "        bin_avg[index] = np.average(y,weights=weights)\n",
    "\n",
    "    return (bin_centers,bin_avg)\n",
    "\n",
    "df = df.sort_values('Months_since_Last_Donation')\n",
    "x = df['Months_since_Last_Donation'].values #.apply(lambda x: np.log(x)).\n",
    "y = df['Made_Donation_in_March_2007'].values\n",
    "x_outLD,y_outLD = weighted_moving_average(x,y,step_size = 1,width = 5, bin_range = [0, 100])\n",
    "#print smoothed\n",
    "plt.plot(x_outLD,y_outLD)\n",
    "fLD = scipy.interpolate.interp1d(x_outLD,y_outLD)\n",
    "\n",
    "df = df.sort_values('Number_of_Donations')\n",
    "x = df['Number_of_Donations'].values #.apply(lambda x: np.log(x)).\n",
    "y = df['Made_Donation_in_March_2007'].values\n",
    "x_outND,y_outND = weighted_moving_average(x,y,step_size = 1,width = 5, bin_range = [0, 100])\n",
    "#print smoothed\n",
    "plt.plot(x_outND,y_outND)\n",
    "fND = scipy.interpolate.interp1d(x_outND,y_outND)\n",
    "print x_outND\n",
    "\n",
    "df = df.sort_values('Months_since_First_Donation')\n",
    "x = df['Months_since_First_Donation'].values #.apply(lambda x: np.log(x)).\n",
    "y = df['Made_Donation_in_March_2007'].values\n",
    "x_outFD,y_outFD = weighted_moving_average(x,y,step_size = 1,width = 5, bin_range = [0, 100])\n",
    "#print smoothed\n",
    "plt.plot(x_outFD,y_outFD)\n",
    "fFD = scipy.interpolate.interp1d(x_outFD,y_outFD)\n",
    "print x_outFD\n",
    "#plt.bar(data.index,data.Made_Donation_in_March_2007)"
   ]
  },
  {
   "cell_type": "code",
   "execution_count": 54,
   "metadata": {
    "collapsed": false
   },
   "outputs": [
    {
     "name": "stdout",
     "output_type": "stream",
     "text": [
      "[ 0  0  0  0  1  1  1  1  1  1  1  1  1  2  2  2  2  2  2  2  2  2  2  2  2\n",
      "  2  2  2  2  2  2  2  2  2  2  2  2  2  2  2  2  2  2  2  2  2  2  2  2  2\n",
      "  2  2  2  2  2  2  2  2  2  2  2  2  2  2  2  2  2  2  2  2  2  2  2  2  2\n",
      "  2  2  2  2  2  2  2  2  2  2  2  2  2  2  2  2  2  2  2  2  2  2  2  2  2\n",
      "  2  2  2  2  2  2  2  2  2  2  2  2  2  2  2  2  2  2  2  2  2  2  2  2  2\n",
      "  2  2  2  2  2  2  2  2  2  2  2  2  2  2  2  2  2  2  2  2  2  2  2  2  2\n",
      "  2  2  2  3  3  3  3  3  3  3  3  3  3  4  4  4  4  4  4  4  4  4  4  4  4\n",
      "  4  4  4  4  4  4  4  4  4  4  4  4  4  4  4  4  4  4  4  4  4  4  4  4  4\n",
      "  4  4  4  4  4  4  4  4  4  4  4  4  4  4  4  4  4  4  4  4  4  4  4  4  4\n",
      "  4  4  4  4  4  4  4  4  4  4  4  4  4  4  4  4  4  4  4  4  4  4  4  4  4\n",
      "  4  4  4  4  4  4  4  4  4  4  4  4  4  4  4  4  4  4  4  4  4  4  4  4  4\n",
      "  4  4  4  5  5  6  6  6  6  7  7  7  7  7  8  8  8  8  8  9  9  9  9  9  9\n",
      "  9  9  9  9  9  9  9  9  9  9  9 10 10 10 11 11 11 11 11 11 11 11 11 11 11\n",
      " 11 11 11 11 11 11 11 11 11 11 11 11 11 11 11 11 11 11 11 11 11 11 11 11 11\n",
      " 11 11 11 11 11 11 11 11 11 11 11 11 11 11 11 11 11 11 11 11 11 11 11 11 12\n",
      " 12 12 12 12 13 13 13 13 14 14 14 14 14 14 14 14 14 14 14 14 14 14 14 14 14\n",
      " 14 14 14 14 14 14 14 14 14 14 14 14 14 14 14 14 14 14 14 14 14 14 14 14 14\n",
      " 14 14 14 14 14 14 14 14 14 14 14 14 14 14 14 14 14 14 15 16 16 16 16 16 16\n",
      " 16 16 16 16 16 16 16 16 16 16 16 16 16 16 16 16 16 16 16 16 16 16 16 16 16\n",
      " 16 16 16 16 16 16 16 16 16 16 16 16 16 16 16 16 16 17 18 18 20 21 21 21 21\n",
      " 21 21 21 21 21 21 21 21 21 21 21 21 21 21 21 21 21 21 21 21 21 21 21 21 21\n",
      " 21 21 21 21 21 21 21 21 22 23 23 23 23 23 23 23 23 23 23 23 23 23 23 23 23\n",
      " 23 23 23 23 23 23 23 23 23 23 23 23 23 23 23 23 23 23 23 23 25 26 35 39 72\n",
      " 74]\n"
     ]
    }
   ],
   "source": [
    "print x"
   ]
  },
  {
   "cell_type": "markdown",
   "metadata": {},
   "source": [
    "Since Total Volume Donated adds no information, I won't include it as a feature."
   ]
  },
  {
   "cell_type": "code",
   "execution_count": 55,
   "metadata": {
    "collapsed": false
   },
   "outputs": [
    {
     "data": {
      "text/plain": [
       "436    0.366096\n",
       "214    0.343896\n",
       "676    0.310818\n",
       "664    0.515535\n",
       "607    0.347716\n",
       "182    0.285178\n",
       "106    0.325693\n",
       "358    0.602107\n",
       "258    0.394102\n",
       "164    0.462686\n",
       "285    0.448608\n",
       "330    0.437552\n",
       "441    0.551485\n",
       "556    0.272668\n",
       "247    0.308770\n",
       "589    0.308770\n",
       "220    0.308770\n",
       "410    0.308770\n",
       "687    0.303761\n",
       "619    1.106322\n",
       "486    0.270506\n",
       "375    0.294691\n",
       "124    0.339091\n",
       "392    0.308770\n",
       "291    0.308770\n",
       "88     0.308770\n",
       "19     0.288645\n",
       "434    0.218251\n",
       "631    0.292705\n",
       "342    0.237251\n",
       "         ...   \n",
       "645    0.029055\n",
       "538    0.059198\n",
       "451    0.640713\n",
       "325    0.254074\n",
       "193    0.104635\n",
       "378    0.068268\n",
       "597   -0.109064\n",
       "295   -0.080818\n",
       "475    0.021971\n",
       "141    0.046068\n",
       "576    0.046068\n",
       "78     0.059198\n",
       "110    0.046068\n",
       "588    0.046068\n",
       "388    0.046068\n",
       "117    0.046068\n",
       "514    0.014976\n",
       "739    0.036050\n",
       "604    0.039073\n",
       "22     0.327756\n",
       "595    0.046157\n",
       "210    0.053152\n",
       "180    0.060236\n",
       "554    0.046068\n",
       "183    0.056467\n",
       "281    0.027804\n",
       "673   -0.147321\n",
       "541   -0.154085\n",
       "74    -0.566903\n",
       "350   -0.591922\n",
       "dtype: float64"
      ]
     },
     "execution_count": 55,
     "metadata": {},
     "output_type": "execute_result"
    }
   ],
   "source": [
    "df.drop('Total_Volume_Donated_(c.c.)', axis = 1)\n",
    "model = smf.ols('Made_Donation_in_March_2007 ~ Months_since_Last_Donation + Number_of_Donations + Months_since_First_Donation', data = df)\n",
    "result = model.fit()\n",
    "result.summary()\n",
    "result.fittedvalues"
   ]
  },
  {
   "cell_type": "code",
   "execution_count": 56,
   "metadata": {
    "collapsed": false
   },
   "outputs": [
    {
     "data": {
      "text/plain": [
       "Index([u'Months_since_Last_Donation', u'Number_of_Donations',\n",
       "       u'Total_Volume_Donated_(c.c.)', u'Months_since_First_Donation',\n",
       "       u'Made_Donation_in_March_2007'],\n",
       "      dtype='object')"
      ]
     },
     "execution_count": 56,
     "metadata": {},
     "output_type": "execute_result"
    }
   ],
   "source": [
    "df.keys()\n"
   ]
  },
  {
   "cell_type": "code",
   "execution_count": 57,
   "metadata": {
    "collapsed": false
   },
   "outputs": [
    {
     "name": "stdout",
     "output_type": "stream",
     "text": [
      "436    0.239583\n",
      "214    0.239583\n",
      "676    0.239583\n",
      "664    0.239583\n",
      "607    0.239583\n",
      "182    0.239583\n",
      "106    0.239583\n",
      "358    0.239583\n",
      "258    0.239583\n",
      "164    0.239583\n",
      "285    0.239583\n",
      "330    0.239583\n",
      "441    0.239583\n",
      "556    0.239583\n",
      "247    0.239583\n",
      "589    0.239583\n",
      "220    0.239583\n",
      "410    0.239583\n",
      "687    0.239583\n",
      "619    0.239583\n",
      "486    0.239583\n",
      "375    0.239583\n",
      "124    0.239583\n",
      "392    0.239583\n",
      "291    0.239583\n",
      "88     0.239583\n",
      "19     0.239583\n",
      "434    0.239583\n",
      "631    0.239583\n",
      "342    0.239583\n",
      "         ...   \n",
      "645    0.239583\n",
      "538    0.239583\n",
      "451    0.239583\n",
      "325    0.239583\n",
      "193    0.239583\n",
      "378    0.239583\n",
      "597    0.239583\n",
      "295    0.239583\n",
      "475    0.239583\n",
      "141    0.239583\n",
      "576    0.239583\n",
      "78     0.239583\n",
      "110    0.239583\n",
      "588    0.239583\n",
      "388    0.239583\n",
      "117    0.239583\n",
      "514    0.239583\n",
      "739    0.239583\n",
      "604    0.239583\n",
      "22     0.239583\n",
      "595    0.239583\n",
      "210    0.239583\n",
      "180    0.239583\n",
      "554    0.239583\n",
      "183    0.239583\n",
      "281    0.239583\n",
      "673    0.239583\n",
      "541    0.239583\n",
      "74     0.239583\n",
      "350    0.239583\n",
      "Name: Means, dtype: float64\n"
     ]
    }
   ],
   "source": [
    "mean = df['Made_Donation_in_March_2007'].mean()\n",
    "df['Means'] = np.ones([576,1])*mean\n",
    "print df['Means']"
   ]
  },
  {
   "cell_type": "code",
   "execution_count": 119,
   "metadata": {
    "collapsed": false
   },
   "outputs": [],
   "source": [
    "model = (fLD(df['Months_since_Last_Donation'])*1+fFD(df['Months_since_First_Donation'])*0+fND(df['Number_of_Donations'])*1+df['Means']*0)/3\n"
   ]
  },
  {
   "cell_type": "code",
   "execution_count": 120,
   "metadata": {
    "collapsed": false
   },
   "outputs": [
    {
     "name": "stdout",
     "output_type": "stream",
     "text": [
      "Training log-loss score 0.550599168862\n"
     ]
    }
   ],
   "source": [
    "# Training evaluation\n",
    "from sklearn.metrics import log_loss\n",
    "pred = np.array(df.Means)\n",
    "actual = df['Made_Donation_in_March_2007']\n",
    "print 'Training log-loss score ' + str(log_loss(actual,pred))"
   ]
  },
  {
   "cell_type": "code",
   "execution_count": 121,
   "metadata": {
    "collapsed": false
   },
   "outputs": [
    {
     "name": "stdout",
     "output_type": "stream",
     "text": [
      "Training log-loss score 0.536515399682\n"
     ]
    }
   ],
   "source": [
    "# Training evaluation\n",
    "from sklearn.metrics import log_loss\n",
    "pred = np.array(model)\n",
    "actual = df['Made_Donation_in_March_2007']\n",
    "print 'Training log-loss score ' + str(log_loss(actual,pred))\n"
   ]
  },
  {
   "cell_type": "code",
   "execution_count": null,
   "metadata": {
    "collapsed": true
   },
   "outputs": [],
   "source": []
  }
 ],
 "metadata": {
  "anaconda-cloud": {},
  "kernelspec": {
   "display_name": "Python 2",
   "language": "python",
   "name": "python2"
  },
  "language_info": {
   "codemirror_mode": {
    "name": "ipython",
    "version": 2
   },
   "file_extension": ".py",
   "mimetype": "text/x-python",
   "name": "python",
   "nbconvert_exporter": "python",
   "pygments_lexer": "ipython2",
   "version": "2.7.11"
  }
 },
 "nbformat": 4,
 "nbformat_minor": 0
}
