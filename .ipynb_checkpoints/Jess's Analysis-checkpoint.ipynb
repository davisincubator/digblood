{
 "cells": [
  {
   "cell_type": "markdown",
   "metadata": {},
   "source": [
    "## Jess's DIGBlood IPython notebook"
   ]
  },
  {
   "cell_type": "code",
   "execution_count": 103,
   "metadata": {
    "collapsed": false
   },
   "outputs": [
    {
     "ename": "SyntaxError",
     "evalue": "invalid syntax (<ipython-input-103-59a681c6df98>, line 8)",
     "output_type": "error",
     "traceback": [
      "\u001b[0;36m  File \u001b[0;32m\"<ipython-input-103-59a681c6df98>\"\u001b[0;36m, line \u001b[0;32m8\u001b[0m\n\u001b[0;31m    import\u001b[0m\n\u001b[0m           ^\u001b[0m\n\u001b[0;31mSyntaxError\u001b[0m\u001b[0;31m:\u001b[0m invalid syntax\n"
     ]
    }
   ],
   "source": [
    "# Import stuff\n",
    "import pandas as pd\n",
    "import numpy as np\n",
    "import statsmodels.formula.api as smf\n",
    "from scipy.stats import pearsonr\n",
    "from __future__ import division\n",
    "import matplotlib.pyplot as plt"
   ]
  },
  {
   "cell_type": "code",
   "execution_count": 77,
   "metadata": {
    "collapsed": false
   },
   "outputs": [],
   "source": [
    "df = pd.DataFrame.from_csv('/Users/jesskerlin/Documents/GitHub/digblood/blood_train.csv')\n",
    "df.columns = [c.replace(' ', '_') for c in df.columns]"
   ]
  },
  {
   "cell_type": "code",
   "execution_count": 78,
   "metadata": {
    "collapsed": false
   },
   "outputs": [
    {
     "data": {
      "text/html": [
       "<div>\n",
       "<table border=\"1\" class=\"dataframe\">\n",
       "  <thead>\n",
       "    <tr style=\"text-align: right;\">\n",
       "      <th></th>\n",
       "      <th>Months_since_Last_Donation</th>\n",
       "      <th>Number_of_Donations</th>\n",
       "      <th>Total_Volume_Donated_(c.c.)</th>\n",
       "      <th>Months_since_First_Donation</th>\n",
       "      <th>Made_Donation_in_March_2007</th>\n",
       "    </tr>\n",
       "  </thead>\n",
       "  <tbody>\n",
       "    <tr>\n",
       "      <th>619</th>\n",
       "      <td>2</td>\n",
       "      <td>50</td>\n",
       "      <td>12500</td>\n",
       "      <td>98</td>\n",
       "      <td>1</td>\n",
       "    </tr>\n",
       "    <tr>\n",
       "      <th>664</th>\n",
       "      <td>0</td>\n",
       "      <td>13</td>\n",
       "      <td>3250</td>\n",
       "      <td>28</td>\n",
       "      <td>1</td>\n",
       "    </tr>\n",
       "    <tr>\n",
       "      <th>441</th>\n",
       "      <td>1</td>\n",
       "      <td>16</td>\n",
       "      <td>4000</td>\n",
       "      <td>35</td>\n",
       "      <td>1</td>\n",
       "    </tr>\n",
       "    <tr>\n",
       "      <th>160</th>\n",
       "      <td>2</td>\n",
       "      <td>20</td>\n",
       "      <td>5000</td>\n",
       "      <td>45</td>\n",
       "      <td>1</td>\n",
       "    </tr>\n",
       "    <tr>\n",
       "      <th>358</th>\n",
       "      <td>1</td>\n",
       "      <td>24</td>\n",
       "      <td>6000</td>\n",
       "      <td>77</td>\n",
       "      <td>0</td>\n",
       "    </tr>\n",
       "  </tbody>\n",
       "</table>\n",
       "</div>"
      ],
      "text/plain": [
       "     Months_since_Last_Donation  Number_of_Donations  \\\n",
       "619                           2                   50   \n",
       "664                           0                   13   \n",
       "441                           1                   16   \n",
       "160                           2                   20   \n",
       "358                           1                   24   \n",
       "\n",
       "     Total_Volume_Donated_(c.c.)  Months_since_First_Donation  \\\n",
       "619                        12500                           98   \n",
       "664                         3250                           28   \n",
       "441                         4000                           35   \n",
       "160                         5000                           45   \n",
       "358                         6000                           77   \n",
       "\n",
       "     Made_Donation_in_March_2007  \n",
       "619                            1  \n",
       "664                            1  \n",
       "441                            1  \n",
       "160                            1  \n",
       "358                            0  "
      ]
     },
     "execution_count": 78,
     "metadata": {},
     "output_type": "execute_result"
    }
   ],
   "source": [
    "#Show the first few lines of the database\n",
    "df[:5]"
   ]
  },
  {
   "cell_type": "code",
   "execution_count": 70,
   "metadata": {
    "collapsed": false
   },
   "outputs": [
    {
     "data": {
      "text/plain": [
       "(1.0, 0.0)"
      ]
     },
     "execution_count": 70,
     "metadata": {},
     "output_type": "execute_result"
    }
   ],
   "source": [
    "\n",
    "pearsonr(df['Number_of_Donations'],df['Total_Volume_Donated_(c.c.)'])"
   ]
  },
  {
   "cell_type": "code",
   "execution_count": 102,
   "metadata": {
    "collapsed": false
   },
   "outputs": [
    {
     "ename": "NameError",
     "evalue": "name 'plt' is not defined",
     "output_type": "error",
     "traceback": [
      "\u001b[0;31m---------------------------------------------------------------------------\u001b[0m",
      "\u001b[0;31mNameError\u001b[0m                                 Traceback (most recent call last)",
      "\u001b[0;32m<ipython-input-102-1eb48d891f61>\u001b[0m in \u001b[0;36m<module>\u001b[0;34m()\u001b[0m\n\u001b[1;32m      1\u001b[0m \u001b[0mdata\u001b[0m \u001b[0;34m=\u001b[0m \u001b[0mdf\u001b[0m\u001b[0;34m[\u001b[0m\u001b[0;34m[\u001b[0m\u001b[0;34m'Months_since_Last_Donation'\u001b[0m\u001b[0;34m,\u001b[0m\u001b[0;34m'Made_Donation_in_March_2007'\u001b[0m\u001b[0;34m]\u001b[0m\u001b[0;34m]\u001b[0m\u001b[0;34m.\u001b[0m\u001b[0mgroupby\u001b[0m\u001b[0;34m(\u001b[0m\u001b[0;34m[\u001b[0m\u001b[0;34m'Months_since_Last_Donation'\u001b[0m\u001b[0;34m]\u001b[0m\u001b[0;34m)\u001b[0m\u001b[0;34m.\u001b[0m\u001b[0mmean\u001b[0m\u001b[0;34m(\u001b[0m\u001b[0;34m)\u001b[0m\u001b[0;34m\u001b[0m\u001b[0m\n\u001b[0;32m----> 2\u001b[0;31m \u001b[0mplt\u001b[0m\u001b[0;34m(\u001b[0m\u001b[0mdata\u001b[0m\u001b[0;34m)\u001b[0m\u001b[0;34m\u001b[0m\u001b[0m\n\u001b[0m",
      "\u001b[0;31mNameError\u001b[0m: name 'plt' is not defined"
     ]
    }
   ],
   "source": [
    "data = df[['Months_since_Last_Donation','Made_Donation_in_March_2007']].groupby(['Months_since_Last_Donation']).mean()\n",
    "plt(data)"
   ]
  },
  {
   "cell_type": "markdown",
   "metadata": {},
   "source": [
    "Since Total Volume Donated adds no information, I won't include it as a feature."
   ]
  },
  {
   "cell_type": "code",
   "execution_count": 86,
   "metadata": {
    "collapsed": false
   },
   "outputs": [
    {
     "data": {
      "text/plain": [
       "619    1.106322\n",
       "664    0.515535\n",
       "441    0.551485\n",
       "160    0.600565\n",
       "358    0.602107\n",
       "335    0.350350\n",
       "47     0.405689\n",
       "164    0.462686\n",
       "736    0.989065\n",
       "436    0.366096\n",
       "460    0.429963\n",
       "285    0.448608\n",
       "499    0.380467\n",
       "356    0.370360\n",
       "40     0.458298\n",
       "191    0.477474\n",
       "638    0.380467\n",
       "345    0.347123\n",
       "463    0.347123\n",
       "372    0.433190\n",
       "8      0.377443\n",
       "539    0.377443\n",
       "734    0.463510\n",
       "573    0.364517\n",
       "482    0.387754\n",
       "330    0.437552\n",
       "222    0.410990\n",
       "175    0.410990\n",
       "606    0.454325\n",
       "340    0.385564\n",
       "         ...   \n",
       "577    0.072321\n",
       "118    0.100459\n",
       "532    0.068268\n",
       "338    0.090556\n",
       "365    0.117367\n",
       "173    0.073260\n",
       "715    0.056158\n",
       "2      0.078171\n",
       "387    0.073162\n",
       "738    0.062398\n",
       "610    0.064092\n",
       "450    0.058046\n",
       "232    0.071088\n",
       "440    0.071088\n",
       "183    0.056467\n",
       "60     0.071088\n",
       "58     0.071088\n",
       "49     0.042096\n",
       "674    0.057009\n",
       "204    0.006546\n",
       "361    0.046068\n",
       "30     0.046068\n",
       "337    0.046068\n",
       "496    0.046068\n",
       "169    0.046068\n",
       "698    0.046068\n",
       "433   -0.033589\n",
       "360   -0.000432\n",
       "541   -0.154085\n",
       "74    -0.566903\n",
       "dtype: float64"
      ]
     },
     "execution_count": 86,
     "metadata": {},
     "output_type": "execute_result"
    }
   ],
   "source": [
    "df.drop('Total_Volume_Donated_(c.c.)', axis = 1)\n",
    "model = smf.ols('Made_Donation_in_March_2007 ~ Months_since_Last_Donation + Number_of_Donations + Months_since_First_Donation', data = df)\n",
    "result = model.fit()\n",
    "result.summary()\n",
    "result.fittedvalues"
   ]
  },
  {
   "cell_type": "code",
   "execution_count": 49,
   "metadata": {
    "collapsed": false
   },
   "outputs": [
    {
     "data": {
      "text/plain": [
       "Index([u'Months since Last Donation', u'Number of Donations',\n",
       "       u'Total Volume Donated (c.c.)', u'Months since First Donation',\n",
       "       u'Made Donation in March 2007', u'Means'],\n",
       "      dtype='object')"
      ]
     },
     "execution_count": 49,
     "metadata": {},
     "output_type": "execute_result"
    }
   ],
   "source": [
    "df.keys()\n"
   ]
  },
  {
   "cell_type": "code",
   "execution_count": 56,
   "metadata": {
    "collapsed": false
   },
   "outputs": [
    {
     "name": "stdout",
     "output_type": "stream",
     "text": [
      "619    0.239583\n",
      "664    0.239583\n",
      "441    0.239583\n",
      "160    0.239583\n",
      "358    0.239583\n",
      "335    0.239583\n",
      "47     0.239583\n",
      "164    0.239583\n",
      "736    0.239583\n",
      "436    0.239583\n",
      "460    0.239583\n",
      "285    0.239583\n",
      "499    0.239583\n",
      "356    0.239583\n",
      "40     0.239583\n",
      "191    0.239583\n",
      "638    0.239583\n",
      "345    0.239583\n",
      "463    0.239583\n",
      "372    0.239583\n",
      "8      0.239583\n",
      "539    0.239583\n",
      "734    0.239583\n",
      "573    0.239583\n",
      "482    0.239583\n",
      "330    0.239583\n",
      "222    0.239583\n",
      "175    0.239583\n",
      "606    0.239583\n",
      "340    0.239583\n",
      "         ...   \n",
      "577    0.239583\n",
      "118    0.239583\n",
      "532    0.239583\n",
      "338    0.239583\n",
      "365    0.239583\n",
      "173    0.239583\n",
      "715    0.239583\n",
      "2      0.239583\n",
      "387    0.239583\n",
      "738    0.239583\n",
      "610    0.239583\n",
      "450    0.239583\n",
      "232    0.239583\n",
      "440    0.239583\n",
      "183    0.239583\n",
      "60     0.239583\n",
      "58     0.239583\n",
      "49     0.239583\n",
      "674    0.239583\n",
      "204    0.239583\n",
      "361    0.239583\n",
      "30     0.239583\n",
      "337    0.239583\n",
      "496    0.239583\n",
      "169    0.239583\n",
      "698    0.239583\n",
      "433    0.239583\n",
      "360    0.239583\n",
      "541    0.239583\n",
      "74     0.239583\n",
      "Name: Means, dtype: float64\n"
     ]
    }
   ],
   "source": [
    "mean = df['Made Donation in March 2007'].mean()\n",
    "df['Means'] = np.ones([576,1])*mean\n",
    "print df['Means']"
   ]
  },
  {
   "cell_type": "code",
   "execution_count": 51,
   "metadata": {
    "collapsed": false
   },
   "outputs": [],
   "source": [
    "\n",
    "    "
   ]
  },
  {
   "cell_type": "code",
   "execution_count": 62,
   "metadata": {
    "collapsed": false
   },
   "outputs": [
    {
     "name": "stdout",
     "output_type": "stream",
     "text": [
      "Training log-loss score 0.550599168862\n"
     ]
    }
   ],
   "source": [
    "# Training evaluation\n",
    "from sklearn.metrics import log_loss\n",
    "pred = np.array(df.Means)\n",
    "actual = df['Made Donation in March 2007']\n",
    "print 'Training log-loss score ' + str(log_loss(actual,pred))"
   ]
  },
  {
   "cell_type": "code",
   "execution_count": null,
   "metadata": {
    "collapsed": true
   },
   "outputs": [],
   "source": []
  }
 ],
 "metadata": {
  "anaconda-cloud": {},
  "kernelspec": {
   "display_name": "Python [Root]",
   "language": "python",
   "name": "Python [Root]"
  },
  "language_info": {
   "codemirror_mode": {
    "name": "ipython",
    "version": 2
   },
   "file_extension": ".py",
   "mimetype": "text/x-python",
   "name": "python",
   "nbconvert_exporter": "python",
   "pygments_lexer": "ipython2",
   "version": "2.7.12"
  }
 },
 "nbformat": 4,
 "nbformat_minor": 0
}
